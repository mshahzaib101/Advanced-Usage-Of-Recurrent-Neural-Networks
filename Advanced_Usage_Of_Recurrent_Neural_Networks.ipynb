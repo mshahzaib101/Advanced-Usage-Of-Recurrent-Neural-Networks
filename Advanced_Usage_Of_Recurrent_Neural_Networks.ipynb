{
  "nbformat": 4,
  "nbformat_minor": 0,
  "metadata": {
    "kernelspec": {
      "display_name": "Python 3",
      "language": "python",
      "name": "python3"
    },
    "language_info": {
      "codemirror_mode": {
        "name": "ipython",
        "version": 3
      },
      "file_extension": ".py",
      "mimetype": "text/x-python",
      "name": "python",
      "nbconvert_exporter": "python",
      "pygments_lexer": "ipython3",
      "version": "3.5.2"
    },
    "colab": {
      "name": "Advanced-Usage-Of-Recurrent-Neural-Networks.ipynb",
      "provenance": [],
      "collapsed_sections": [],
      "include_colab_link": true
    }
  },
  "cells": [
    {
      "cell_type": "markdown",
      "metadata": {
        "id": "view-in-github",
        "colab_type": "text"
      },
      "source": [
        "<a href=\"https://colab.research.google.com/github/mshahzaib101/Advanced-Usage-Of-Recurrent-Neural-Networks/blob/master/Advanced_Usage_Of_Recurrent_Neural_Networks.ipynb\" target=\"_parent\"><img src=\"https://colab.research.google.com/assets/colab-badge.svg\" alt=\"Open In Colab\"/></a>"
      ]
    },
    {
      "cell_type": "code",
      "metadata": {
        "id": "TL4ADQptIRS1",
        "colab_type": "code",
        "outputId": "0bffe198-62b2-4748-9649-fbee8b292398",
        "colab": {
          "base_uri": "https://localhost:8080/",
          "height": 101
        }
      },
      "source": [
        "import keras\n",
        "keras.__version__"
      ],
      "execution_count": 1,
      "outputs": [
        {
          "output_type": "stream",
          "text": [
            "Using TensorFlow backend.\n"
          ],
          "name": "stderr"
        },
        {
          "output_type": "display_data",
          "data": {
            "text/html": [
              "<p style=\"color: red;\">\n",
              "The default version of TensorFlow in Colab will soon switch to TensorFlow 2.x.<br>\n",
              "We recommend you <a href=\"https://www.tensorflow.org/guide/migrate\" target=\"_blank\">upgrade</a> now \n",
              "or ensure your notebook will continue to use TensorFlow 1.x via the <code>%tensorflow_version 1.x</code> magic:\n",
              "<a href=\"https://colab.research.google.com/notebooks/tensorflow_version.ipynb\" target=\"_blank\">more info</a>.</p>\n"
            ],
            "text/plain": [
              "<IPython.core.display.HTML object>"
            ]
          },
          "metadata": {
            "tags": []
          }
        },
        {
          "output_type": "execute_result",
          "data": {
            "text/plain": [
              "'2.2.5'"
            ]
          },
          "metadata": {
            "tags": []
          },
          "execution_count": 1
        }
      ]
    },
    {
      "cell_type": "code",
      "metadata": {
        "id": "PbvYVcGkNnzI",
        "colab_type": "code",
        "outputId": "0266dc1f-8bee-4db2-f881-37c1ec155de1",
        "colab": {
          "base_uri": "https://localhost:8080/",
          "height": 127
        }
      },
      "source": [
        "#connecting gdrive\n",
        "from google.colab import drive\n",
        "drive.mount('/content/drive')"
      ],
      "execution_count": 2,
      "outputs": [
        {
          "output_type": "stream",
          "text": [
            "Go to this URL in a browser: https://accounts.google.com/o/oauth2/auth?client_id=947318989803-6bn6qk8qdgf4n4g3pfee6491hc0brc4i.apps.googleusercontent.com&redirect_uri=urn%3aietf%3awg%3aoauth%3a2.0%3aoob&response_type=code&scope=email%20https%3a%2f%2fwww.googleapis.com%2fauth%2fdocs.test%20https%3a%2f%2fwww.googleapis.com%2fauth%2fdrive%20https%3a%2f%2fwww.googleapis.com%2fauth%2fdrive.photos.readonly%20https%3a%2f%2fwww.googleapis.com%2fauth%2fpeopleapi.readonly\n",
            "\n",
            "Enter your authorization code:\n",
            "··········\n",
            "Mounted at /content/drive\n"
          ],
          "name": "stdout"
        }
      ]
    },
    {
      "cell_type": "code",
      "metadata": {
        "id": "I-XD8a8MNnuz",
        "colab_type": "code",
        "outputId": "dd26fe8f-dfb2-48e5-b911-9709b4ef7c57",
        "colab": {
          "base_uri": "https://localhost:8080/",
          "height": 53
        }
      },
      "source": [
        "!unzip \"/content/drive/My Drive/DeepLearning/temperature_forecasting_madel/jena_climate_2009_2016.csv.zip\""
      ],
      "execution_count": 3,
      "outputs": [
        {
          "output_type": "stream",
          "text": [
            "Archive:  /content/drive/My Drive/DeepLearning/temperature_forecasting_madel/jena_climate_2009_2016.csv.zip\n",
            "  inflating: jena_climate_2009_2016.csv  \n"
          ],
          "name": "stdout"
        }
      ]
    },
    {
      "cell_type": "markdown",
      "metadata": {
        "id": "Wh9TLLAsIRTA",
        "colab_type": "text"
      },
      "source": [
        "# Advanced usage of recurrent neural networks\n",
        "\n",
        "\n",
        "In this section, we will review three advanced techniques for improving the performance and generalization power of recurrent neural \n",
        "networks. By the end of the section, you will know most of what there is to know about using recurrent networks with Keras. We will \n",
        "demonstrate all three concepts on a weather forecasting problem, where we have access to a timeseries of data points coming from sensors \n",
        "installed on the roof of a building, such as temperature, air pressure, and humidity, which we use to predict what the temperature will be \n",
        "24 hours after the last data point collected. This is a fairly challenging problem that exemplifies many common difficulties encountered \n",
        "when working with timeseries.\n",
        "\n",
        "We will cover the following techniques:\n",
        "\n",
        "* *Recurrent dropout*, a specific, built-in way to use dropout to fight overfitting in recurrent layers.\n",
        "* *Stacking recurrent layers*, to increase the representational power of the network (at the cost of higher computational loads).\n",
        "* *Bidirectional recurrent layers*, which presents the same information to a recurrent network in different ways, increasing accuracy and \n",
        "mitigating forgetting issues."
      ]
    },
    {
      "cell_type": "markdown",
      "metadata": {
        "id": "xCWcVqgNIRTC",
        "colab_type": "text"
      },
      "source": [
        "## A temperature forecasting problem\n",
        "\n",
        "Until now, the only sequence data we have covered has been text data, for instance the IMDB dataset and the Reuters dataset. But sequence \n",
        "data is found in many more problems than just language processing. In all of our examples in this section, we will be playing with a weather \n",
        "timeseries dataset recorded at the Weather Station at the Max-Planck-Institute for Biogeochemistry in Jena, Germany: http://www.bgc-jena.mpg.de/wetter/.\n",
        "\n",
        "In this dataset, fourteen different quantities (such air temperature, atmospheric pressure, humidity, wind direction, etc.) are recorded \n",
        "every ten minutes, over several years. The original data goes back to 2003, but we limit ourselves to data from 2009-2016. This dataset is \n",
        "perfect for learning to work with numerical timeseries. We will use it to build a model that takes as input some data from the recent past (a \n",
        "few days worth of data points) and predicts the air temperature 24 hours in the future."
      ]
    },
    {
      "cell_type": "markdown",
      "metadata": {
        "id": "pXFIYoglIRTD",
        "colab_type": "text"
      },
      "source": [
        "Let's take a look at the data:"
      ]
    },
    {
      "cell_type": "code",
      "metadata": {
        "id": "lUcFh8e5IRTF",
        "colab_type": "code",
        "outputId": "5b3ef309-086c-4aeb-b2b3-479917bcc39e",
        "colab": {
          "base_uri": "https://localhost:8080/",
          "height": 73
        }
      },
      "source": [
        "import os\n",
        "\n",
        "data_dir = '/content/'\n",
        "fname = os.path.join(data_dir, 'jena_climate_2009_2016.csv')\n",
        "\n",
        "f = open(fname)\n",
        "data = f.read()\n",
        "f.close()\n",
        "\n",
        "lines = data.split('\\n')\n",
        "header = lines[0].split(',')\n",
        "lines = lines[1:]\n",
        "\n",
        "print(header)\n",
        "print(len(lines))"
      ],
      "execution_count": 4,
      "outputs": [
        {
          "output_type": "stream",
          "text": [
            "['\"Date Time\"', '\"p (mbar)\"', '\"T (degC)\"', '\"Tpot (K)\"', '\"Tdew (degC)\"', '\"rh (%)\"', '\"VPmax (mbar)\"', '\"VPact (mbar)\"', '\"VPdef (mbar)\"', '\"sh (g/kg)\"', '\"H2OC (mmol/mol)\"', '\"rho (g/m**3)\"', '\"wv (m/s)\"', '\"max. wv (m/s)\"', '\"wd (deg)\"']\n",
            "420551\n"
          ],
          "name": "stdout"
        }
      ]
    },
    {
      "cell_type": "code",
      "metadata": {
        "id": "ncwqbNBAOxZN",
        "colab_type": "code",
        "outputId": "44b1a26b-a006-48bb-9448-4c9dd21a981c",
        "colab": {
          "base_uri": "https://localhost:8080/",
          "height": 35
        }
      },
      "source": [
        "(lines[0])"
      ],
      "execution_count": 0,
      "outputs": [
        {
          "output_type": "execute_result",
          "data": {
            "text/plain": [
              "'01.01.2009 00:10:00,996.52,-8.02,265.40,-8.90,93.30,3.33,3.11,0.22,1.94,3.12,1307.75,1.03,1.75,152.30'"
            ]
          },
          "metadata": {
            "tags": []
          },
          "execution_count": 5
        }
      ]
    },
    {
      "cell_type": "markdown",
      "metadata": {
        "id": "eBkPDgy-IRTM",
        "colab_type": "text"
      },
      "source": [
        "Let's convert all of these 420,551 lines of data into a Numpy array:"
      ]
    },
    {
      "cell_type": "code",
      "metadata": {
        "id": "vbQNdP5oIRTO",
        "colab_type": "code",
        "colab": {}
      },
      "source": [
        "import numpy as np\n",
        "\n",
        "float_data = np.zeros((len(lines), len(header) - 1))\n",
        "for i, line in enumerate(lines):\n",
        "    values = [float(x) for x in line.split(',')[1:]]\n",
        "    float_data[i, :] = values"
      ],
      "execution_count": 0,
      "outputs": []
    },
    {
      "cell_type": "code",
      "metadata": {
        "id": "s09E8DqcPvqB",
        "colab_type": "code",
        "outputId": "d4780fb4-9788-417d-8f96-5bdeb25b03d6",
        "colab": {
          "base_uri": "https://localhost:8080/",
          "height": 35
        }
      },
      "source": [
        "len(float_data)"
      ],
      "execution_count": 0,
      "outputs": [
        {
          "output_type": "execute_result",
          "data": {
            "text/plain": [
              "420551"
            ]
          },
          "metadata": {
            "tags": []
          },
          "execution_count": 7
        }
      ]
    },
    {
      "cell_type": "code",
      "metadata": {
        "id": "3o2JC_QrPyfE",
        "colab_type": "code",
        "outputId": "be8c92b6-76a7-4f8c-82f5-a38d5de5d4ae",
        "colab": {
          "base_uri": "https://localhost:8080/",
          "height": 89
        }
      },
      "source": [
        "float_data[0]"
      ],
      "execution_count": 0,
      "outputs": [
        {
          "output_type": "execute_result",
          "data": {
            "text/plain": [
              "array([ 9.96520e+02, -8.02000e+00,  2.65400e+02, -8.90000e+00,\n",
              "        9.33000e+01,  3.33000e+00,  3.11000e+00,  2.20000e-01,\n",
              "        1.94000e+00,  3.12000e+00,  1.30775e+03,  1.03000e+00,\n",
              "        1.75000e+00,  1.52300e+02])"
            ]
          },
          "metadata": {
            "tags": []
          },
          "execution_count": 8
        }
      ]
    },
    {
      "cell_type": "code",
      "metadata": {
        "id": "OA8aWceDPyby",
        "colab_type": "code",
        "outputId": "6fabb717-5e71-4f5c-a90b-f0ea2f47cfba",
        "colab": {
          "base_uri": "https://localhost:8080/",
          "height": 35
        }
      },
      "source": [
        "len(float_data[0])"
      ],
      "execution_count": 0,
      "outputs": [
        {
          "output_type": "execute_result",
          "data": {
            "text/plain": [
              "14"
            ]
          },
          "metadata": {
            "tags": []
          },
          "execution_count": 9
        }
      ]
    },
    {
      "cell_type": "markdown",
      "metadata": {
        "id": "Q1_07vubIRTT",
        "colab_type": "text"
      },
      "source": [
        "For instance, here is the plot of temperature (in degrees Celsius) over time:"
      ]
    },
    {
      "cell_type": "code",
      "metadata": {
        "id": "wS300UPiIRTV",
        "colab_type": "code",
        "outputId": "47be76d5-1044-46db-ec07-a80c064a8ef0",
        "colab": {
          "base_uri": "https://localhost:8080/",
          "height": 268
        }
      },
      "source": [
        "from matplotlib import pyplot as plt\n",
        "\n",
        "temp = float_data[:, 1]  # temperature (in degrees Celsius)\n",
        "plt.plot(range(len(temp)), temp)\n",
        "plt.show()"
      ],
      "execution_count": 0,
      "outputs": [
        {
          "output_type": "display_data",
          "data": {
            "image/png": "[encoded data removed]",
            "text/plain": [
              "<Figure size 432x288 with 1 Axes>"
            ]
          },
          "metadata": {
            "tags": []
          }
        }
      ]
    },
    {
      "cell_type": "markdown",
      "metadata": {
        "id": "31dOrSPrIRTa",
        "colab_type": "text"
      },
      "source": [
        "\n",
        "On this plot, you can clearly see the yearly periodicity of temperature.\n",
        "\n",
        "Here is a more narrow plot of the first ten days of temperature data (since the data is recorded every ten minutes, we get 144 data points \n",
        "per day):"
      ]
    },
    {
      "cell_type": "code",
      "metadata": {
        "id": "1YBP7XXoIRTc",
        "colab_type": "code",
        "outputId": "ae385176-e2df-4413-f517-aacf7a78baa1",
        "colab": {
          "base_uri": "https://localhost:8080/",
          "height": 265
        }
      },
      "source": [
        "plt.plot(range(1440), temp[:1440])\n",
        "plt.show()"
      ],
      "execution_count": 0,
      "outputs": [
        {
          "output_type": "display_data",
          "data": {
            "image/png": "[encoded data removed]",
            "text/plain": [
              "<Figure size 432x288 with 1 Axes>"
            ]
          },
          "metadata": {
            "tags": []
          }
        }
      ]
    },
    {
      "cell_type": "markdown",
      "metadata": {
        "id": "Xz0h0Yv5IRTi",
        "colab_type": "text"
      },
      "source": [
        "\n",
        "On this plot, you can see daily periodicity, especially evident for the last 4 days. We can also note that this ten-days period must be \n",
        "coming from a fairly cold winter month.\n",
        "\n",
        "If we were trying to predict average temperature for the next month given a few month of past data, the problem would be easy, due to the \n",
        "reliable year-scale periodicity of the data. But looking at the data over a scale of days, the temperature looks a lot more chaotic. So is \n",
        "this timeseries predictable at a daily scale? Let's find out."
      ]
    },
    {
      "cell_type": "markdown",
      "metadata": {
        "id": "mQKp9yNoIRTk",
        "colab_type": "text"
      },
      "source": [
        "## Preparing the data\n",
        "\n",
        "\n",
        "The exact formulation of our problem will be the following: given data going as far back as `lookback` timesteps (a timestep is 10 minutes) \n",
        "and sampled every `steps` timesteps, can we predict the temperature in `delay` timesteps?\n",
        "\n",
        "We will use the following parameter values:\n",
        "\n",
        "* `lookback = 720`, i.e. our observations will go back 5 days.\n",
        "* `steps = 6`, i.e. our observations will be sampled at one data point per hour.\n",
        "* `delay = 144`, i.e. our targets will be 24 hours in the future.\n",
        "\n",
        "To get started, we need to do two things:\n",
        "\n",
        "* Preprocess the data to a format a neural network can ingest. This is easy: the data is already numerical, so we don't need to do any \n",
        "vectorization. However each timeseries in the data is on a different scale (e.g. temperature is typically between -20 and +30, but \n",
        "pressure, measured in mbar, is around 1000). So we will normalize each timeseries independently so that they all take small values on a \n",
        "similar scale.\n",
        "* Write a Python generator that takes our current array of float data and yields batches of data from the recent past, alongside with a \n",
        "target temperature in the future. Since the samples in our dataset are highly redundant (e.g. sample `N` and sample `N + 1` will have most \n",
        "of their timesteps in common), it would be very wasteful to explicitly allocate every sample. Instead, we will generate the samples on the \n",
        "fly using the original data.\n",
        "\n",
        "We preprocess the data by subtracting the mean of each timeseries and dividing by the standard deviation. We plan on using the first \n",
        "200,000 timesteps as training data, so we compute the mean and standard deviation only on this fraction of the data:"
      ]
    },
    {
      "cell_type": "code",
      "metadata": {
        "id": "Ik7nnbcbIRTm",
        "colab_type": "code",
        "colab": {}
      },
      "source": [
        "mean = float_data[:200000].mean(axis=0)\n",
        "float_data -= mean\n",
        "std = float_data[:200000].std(axis=0)\n",
        "float_data /= std"
      ],
      "execution_count": 0,
      "outputs": []
    },
    {
      "cell_type": "markdown",
      "metadata": {
        "id": "AhEQgMbsIRTt",
        "colab_type": "text"
      },
      "source": [
        "\n",
        "Now here is the data generator that we will use. It yields a tuple `(samples, targets)` where `samples` is one batch of input data and \n",
        "`targets` is the corresponding array of target temperatures. It takes the following arguments:\n",
        "\n",
        "* `data`: The original array of floating point data, which we just normalized in the code snippet above.\n",
        "* `lookback`: How many timesteps back should our input data go.\n",
        "* `delay`: How many timesteps in the future should our target be.\n",
        "* `min_index` and `max_index`: Indices in the `data` array that delimit which timesteps to draw from. This is useful for keeping a segment \n",
        "of the data for validation and another one for testing.\n",
        "* `shuffle`: Whether to shuffle our samples or draw them in chronological order.\n",
        "* `batch_size`: The number of samples per batch.\n",
        "* `step`: The period, in timesteps, at which we sample data. We will set it 6 in order to draw one data point every hour."
      ]
    },
    {
      "cell_type": "code",
      "metadata": {
        "id": "PSU0yi4CIRTu",
        "colab_type": "code",
        "colab": {}
      },
      "source": [
        "def generator(data, lookback, delay, min_index, max_index,\n",
        "              shuffle=False, batch_size=128, step=6):\n",
        "    if max_index is None:\n",
        "        max_index = len(data) - delay - 1\n",
        "    i = min_index + lookback\n",
        "    while 1:\n",
        "        if shuffle:\n",
        "            rows = np.random.randint(\n",
        "                min_index + lookback, max_index, size=batch_size)\n",
        "        else:\n",
        "            if i + batch_size >= max_index:\n",
        "                i = min_index + lookback\n",
        "            rows = np.arange(i, min(i + batch_size, max_index))\n",
        "            i += len(rows)\n",
        "\n",
        "        samples = np.zeros((len(rows),\n",
        "                           lookback // step,\n",
        "                           data.shape[-1]))\n",
        "        targets = np.zeros((len(rows),))\n",
        "        for j, row in enumerate(rows):\n",
        "            indices = range(rows[j] - lookback, rows[j], step)\n",
        "            samples[j] = data[indices]\n",
        "            targets[j] = data[rows[j] + delay][1]\n",
        "        yield samples, targets"
      ],
      "execution_count": 0,
      "outputs": []
    },
    {
      "cell_type": "markdown",
      "metadata": {
        "id": "vKuqG3AAIRT1",
        "colab_type": "text"
      },
      "source": [
        "\n",
        "Now let's use our abstract generator function to instantiate three generators, one for training, one for validation and one for testing. \n",
        "Each will look at different temporal segments of the original data: the training generator looks at the first 200,000 timesteps, the \n",
        "validation generator looks at the following 100,000, and the test generator looks at the remainder."
      ]
    },
    {
      "cell_type": "code",
      "metadata": {
        "id": "8GS57TLKIRT3",
        "colab_type": "code",
        "colab": {}
      },
      "source": [
        "lookback = 1440\n",
        "step = 6\n",
        "delay = 144\n",
        "batch_size = 128\n",
        "\n",
        "train_gen = generator(float_data,\n",
        "                      lookback=lookback,\n",
        "                      delay=delay,\n",
        "                      min_index=0,\n",
        "                      max_index=200000,\n",
        "                      shuffle=True,\n",
        "                      step=step, \n",
        "                      batch_size=batch_size)\n",
        "val_gen = generator(float_data,\n",
        "                    lookback=lookback,\n",
        "                    delay=delay,\n",
        "                    min_index=200001,\n",
        "                    max_index=300000,\n",
        "                    step=step,\n",
        "                    batch_size=batch_size)\n",
        "test_gen = generator(float_data,\n",
        "                     lookback=lookback,\n",
        "                     delay=delay,\n",
        "                     min_index=300001,\n",
        "                     max_index=None,\n",
        "                     step=step,\n",
        "                     batch_size=batch_size)\n",
        "\n",
        "# This is how many steps to draw from `val_gen`\n",
        "# in order to see the whole validation set:\n",
        "val_steps = (300000 - 200001 - lookback) // batch_size\n",
        "\n",
        "# This is how many steps to draw from `test_gen`\n",
        "# in order to see the whole test set:\n",
        "test_steps = (len(float_data) - 300001 - lookback) // batch_size"
      ],
      "execution_count": 0,
      "outputs": []
    },
    {
      "cell_type": "markdown",
      "metadata": {
        "id": "Y-eZd5wVIRT-",
        "colab_type": "text"
      },
      "source": [
        "## A common sense, non-machine learning baseline\n",
        "\n",
        "\n",
        "Before we start leveraging black-box deep learning models to solve our temperature prediction problem, let's try out a simple common-sense \n",
        "approach. It will serve as a sanity check, and it will establish a baseline that we will have to beat in order to demonstrate the \n",
        "usefulness of more advanced machine learning models. Such common-sense baselines can be very useful when approaching a new problem for \n",
        "which there is no known solution (yet). A classic example is that of unbalanced classification tasks, where some classes can be much more \n",
        "common than others. If your dataset contains 90% of instances of class A and 10% of instances of class B, then a common sense approach to \n",
        "the classification task would be to always predict \"A\" when presented with a new sample. Such a classifier would be 90% accurate overall, \n",
        "and any learning-based approach should therefore beat this 90% score in order to demonstrate usefulness. Sometimes such elementary \n",
        "baseline can prove surprisingly hard to beat.\n",
        "\n",
        "In our case, the temperature timeseries can safely be assumed to be continuous (the temperatures tomorrow are likely to be close to the \n",
        "temperatures today) as well as periodical with a daily period. Thus a common sense approach would be to always predict that the temperature \n",
        "24 hours from now will be equal to the temperature right now. Let's evaluate this approach, using the Mean Absolute Error metric (MAE). \n",
        "Mean Absolute Error is simply equal to:"
      ]
    },
    {
      "cell_type": "code",
      "metadata": {
        "id": "PFYRowm1IRUA",
        "colab_type": "code",
        "outputId": "63c3f1d1-6c0e-4ed7-8f65-d30f48b75ff9",
        "colab": {
          "base_uri": "https://localhost:8080/",
          "height": 170
        }
      },
      "source": [
        "np.mean(np.abs(preds - targets))"
      ],
      "execution_count": 0,
      "outputs": [
        {
          "output_type": "error",
          "ename": "NameError",
          "evalue": "ignored",
          "traceback": [
            "\u001b[0;31m---------------------------------------------------------------------------\u001b[0m",
            "\u001b[0;31mNameError\u001b[0m                                 Traceback (most recent call last)",
            "\u001b[0;32m<ipython-input-15-2c3bc3683db5>\u001b[0m in \u001b[0;36m<module>\u001b[0;34m()\u001b[0m\n\u001b[0;32m----> 1\u001b[0;31m \u001b[0mnp\u001b[0m\u001b[0;34m.\u001b[0m\u001b[0mmean\u001b[0m\u001b[0;34m(\u001b[0m\u001b[0mnp\u001b[0m\u001b[0;34m.\u001b[0m\u001b[0mabs\u001b[0m\u001b[0;34m(\u001b[0m\u001b[0mpreds\u001b[0m \u001b[0;34m-\u001b[0m \u001b[0mtargets\u001b[0m\u001b[0;34m)\u001b[0m\u001b[0;34m)\u001b[0m\u001b[0;34m\u001b[0m\u001b[0;34m\u001b[0m\u001b[0m\n\u001b[0m",
            "\u001b[0;31mNameError\u001b[0m: name 'preds' is not defined"
          ]
        }
      ]
    },
    {
      "cell_type": "markdown",
      "metadata": {
        "id": "RlW7moi4IRUF",
        "colab_type": "text"
      },
      "source": [
        "Here's our evaluation loop:"
      ]
    },
    {
      "cell_type": "code",
      "metadata": {
        "id": "lgkXoGB3IRUG",
        "colab_type": "code",
        "outputId": "b510fc51-b8d9-4826-f4a2-c56e102f8571",
        "colab": {}
      },
      "source": [
        "def evaluate_naive_method():\n",
        "    batch_maes = []\n",
        "    for step in range(val_steps):\n",
        "        samples, targets = next(val_gen)\n",
        "        preds = samples[:, -1, 1]\n",
        "        mae = np.mean(np.abs(preds - targets))\n",
        "        batch_maes.append(mae)\n",
        "    print(np.mean(batch_maes))\n",
        "    \n",
        "evaluate_naive_method()"
      ],
      "execution_count": 0,
      "outputs": [
        {
          "output_type": "stream",
          "text": [
            "0.289735972991\n"
          ],
          "name": "stdout"
        }
      ]
    },
    {
      "cell_type": "code",
      "metadata": {
        "id": "wNPa_AebgyKu",
        "colab_type": "code",
        "outputId": "5970c2e2-5646-483f-cde2-be41cdee046b",
        "colab": {
          "base_uri": "https://localhost:8080/",
          "height": 35
        }
      },
      "source": [
        "float_data.shape[-1]"
      ],
      "execution_count": 0,
      "outputs": [
        {
          "output_type": "execute_result",
          "data": {
            "text/plain": [
              "14"
            ]
          },
          "metadata": {
            "tags": []
          },
          "execution_count": 18
        }
      ]
    },
    {
      "cell_type": "markdown",
      "metadata": {
        "id": "ob0zPHR9IRUK",
        "colab_type": "text"
      },
      "source": [
        "It yields a MAE of 0.29. Since our temperature data has been normalized to be centered on 0 and have a standard deviation of one, this \n",
        "number is not immediately interpretable. It translates to an average absolute error of `0.29 * temperature_std` degrees Celsius, i.e. \n",
        "2.57˚C. That's a fairly large average absolute error -- now the game is to leverage our knowledge of deep learning to do better. "
      ]
    },
    {
      "cell_type": "markdown",
      "metadata": {
        "id": "BgYoZRirIRUM",
        "colab_type": "text"
      },
      "source": [
        "## A basic machine learning approach\n",
        "\n",
        "In the same way that it is useful to establish a common sense baseline before trying machine learning approaches, it is useful to try \n",
        "simple and cheap machine learning models (such as small densely-connected networks) before looking into complicated and computationally \n",
        "expensive models such as RNNs. This is the best way to make sure that any further complexity we throw at the problem later on is legitimate \n",
        "and delivers real benefits.\n",
        "\n",
        "Here is a simply fully-connected model in which we start by flattening the data, then run it through two `Dense` layers. Note the lack of \n",
        "activation function on the last `Dense` layer, which is typical for a regression problem. We use MAE as the loss. Since we are evaluating \n",
        "on the exact same data and with the exact same metric as with our common sense approach, the results will be directly comparable."
      ]
    },
    {
      "cell_type": "code",
      "metadata": {
        "id": "ne9NtjuVIRUN",
        "colab_type": "code",
        "outputId": "0031bec0-e7b8-4247-a2e8-220fa50eb7e9",
        "colab": {
          "base_uri": "https://localhost:8080/",
          "height": 757
        }
      },
      "source": [
        "from keras.models import Sequential\n",
        "from keras import layers\n",
        "from keras.optimizers import RMSprop\n",
        "\n",
        "model = Sequential()\n",
        "model.add(layers.Flatten(input_shape=(lookback // step, float_data.shape[-1])))\n",
        "model.add(layers.Dense(32, activation='relu'))\n",
        "model.add(layers.Dense(1))\n",
        "\n",
        "model.compile(optimizer=RMSprop(), loss='mae',metrics=['mae'])\n",
        "history = model.fit_generator(train_gen,\n",
        "                              steps_per_epoch=500,\n",
        "                              epochs=20,\n",
        "                              validation_data=val_gen,\n",
        "                              validation_steps=val_steps,\n",
        "                              )"
      ],
      "execution_count": 0,
      "outputs": [
        {
          "output_type": "stream",
          "text": [
            "Epoch 1/20\n",
            "500/500 [==============================] - 16s 31ms/step - loss: 1.5516 - mean_absolute_error: 1.5516 - val_loss: 2.2831 - val_mean_absolute_error: 2.2831\n",
            "Epoch 2/20\n",
            "500/500 [==============================] - 16s 31ms/step - loss: 3.0645 - mean_absolute_error: 3.0645 - val_loss: 2.0523 - val_mean_absolute_error: 2.0523\n",
            "Epoch 3/20\n",
            "500/500 [==============================] - 16s 32ms/step - loss: 6.4491 - mean_absolute_error: 6.4491 - val_loss: 6.4456 - val_mean_absolute_error: 6.4456\n",
            "Epoch 4/20\n",
            "500/500 [==============================] - 15s 31ms/step - loss: 10.4476 - mean_absolute_error: 10.4476 - val_loss: 7.5186 - val_mean_absolute_error: 7.5186\n",
            "Epoch 5/20\n",
            "500/500 [==============================] - 16s 31ms/step - loss: 14.9732 - mean_absolute_error: 14.9732 - val_loss: 26.3033 - val_mean_absolute_error: 26.3033\n",
            "Epoch 6/20\n",
            "500/500 [==============================] - 16s 32ms/step - loss: 19.7863 - mean_absolute_error: 19.7863 - val_loss: 17.4068 - val_mean_absolute_error: 17.4068\n",
            "Epoch 7/20\n",
            "500/500 [==============================] - 16s 32ms/step - loss: 24.6451 - mean_absolute_error: 24.6451 - val_loss: 5.3015 - val_mean_absolute_error: 5.3015\n",
            "Epoch 8/20\n",
            "500/500 [==============================] - 16s 32ms/step - loss: 29.3023 - mean_absolute_error: 29.3023 - val_loss: 38.4666 - val_mean_absolute_error: 38.4666\n",
            "Epoch 9/20\n",
            "500/500 [==============================] - 16s 31ms/step - loss: 34.1672 - mean_absolute_error: 34.1672 - val_loss: 65.9905 - val_mean_absolute_error: 65.9905\n",
            "Epoch 10/20\n",
            "500/500 [==============================] - 16s 31ms/step - loss: 39.3834 - mean_absolute_error: 39.3834 - val_loss: 31.2063 - val_mean_absolute_error: 31.2063\n",
            "Epoch 11/20\n",
            "500/500 [==============================] - 16s 31ms/step - loss: 44.7074 - mean_absolute_error: 44.7074 - val_loss: 29.6718 - val_mean_absolute_error: 29.6718\n",
            "Epoch 12/20\n",
            "500/500 [==============================] - 16s 31ms/step - loss: 49.3903 - mean_absolute_error: 49.3903 - val_loss: 54.7857 - val_mean_absolute_error: 54.7857\n",
            "Epoch 13/20\n",
            "500/500 [==============================] - 16s 32ms/step - loss: 53.9223 - mean_absolute_error: 53.9223 - val_loss: 70.4563 - val_mean_absolute_error: 70.4563\n",
            "Epoch 14/20\n",
            "500/500 [==============================] - 15s 31ms/step - loss: 59.0289 - mean_absolute_error: 59.0289 - val_loss: 39.3243 - val_mean_absolute_error: 39.3243\n",
            "Epoch 15/20\n",
            "500/500 [==============================] - 16s 31ms/step - loss: 64.6687 - mean_absolute_error: 64.6687 - val_loss: 76.8418 - val_mean_absolute_error: 76.8418\n",
            "Epoch 16/20\n",
            "500/500 [==============================] - 16s 31ms/step - loss: 68.8883 - mean_absolute_error: 68.8883 - val_loss: 96.2846 - val_mean_absolute_error: 96.2846\n",
            "Epoch 17/20\n",
            "500/500 [==============================] - 16s 31ms/step - loss: 74.0517 - mean_absolute_error: 74.0517 - val_loss: 30.0160 - val_mean_absolute_error: 30.0160\n",
            "Epoch 18/20\n",
            "500/500 [==============================] - 16s 31ms/step - loss: 78.7388 - mean_absolute_error: 78.7388 - val_loss: 73.6037 - val_mean_absolute_error: 73.6037\n",
            "Epoch 19/20\n",
            "500/500 [==============================] - 15s 31ms/step - loss: 83.6527 - mean_absolute_error: 83.6527 - val_loss: 107.4278 - val_mean_absolute_error: 107.4278\n",
            "Epoch 20/20\n",
            "500/500 [==============================] - 16s 31ms/step - loss: 88.8944 - mean_absolute_error: 88.8944 - val_loss: 109.3829 - val_mean_absolute_error: 109.3829\n"
          ],
          "name": "stdout"
        }
      ]
    },
    {
      "cell_type": "code",
      "metadata": {
        "id": "iGxoGRwwkqaQ",
        "colab_type": "code",
        "outputId": "7d2fda86-bbec-43fd-8476-3e84f555c15e",
        "colab": {
          "base_uri": "https://localhost:8080/",
          "height": 287
        }
      },
      "source": [
        "print(model.summary())"
      ],
      "execution_count": 0,
      "outputs": [
        {
          "output_type": "stream",
          "text": [
            "Model: \"sequential_1\"\n",
            "_________________________________________________________________\n",
            "Layer (type)                 Output Shape              Param #   \n",
            "=================================================================\n",
            "flatten_1 (Flatten)          (None, 3360)              0         \n",
            "_________________________________________________________________\n",
            "dense_1 (Dense)              (None, 32)                107552    \n",
            "_________________________________________________________________\n",
            "dense_2 (Dense)              (None, 1)                 33        \n",
            "=================================================================\n",
            "Total params: 107,585\n",
            "Trainable params: 107,585\n",
            "Non-trainable params: 0\n",
            "_________________________________________________________________\n",
            "None\n"
          ],
          "name": "stdout"
        }
      ]
    },
    {
      "cell_type": "markdown",
      "metadata": {
        "id": "GjvHXaIFIRUS",
        "colab_type": "text"
      },
      "source": [
        "Let's display the loss curves for validation and training:"
      ]
    },
    {
      "cell_type": "code",
      "metadata": {
        "id": "zmq4gZW0IRUU",
        "colab_type": "code",
        "outputId": "2a7afa03-deef-417c-fd54-f261565d307a",
        "colab": {
          "base_uri": "https://localhost:8080/",
          "height": 281
        }
      },
      "source": [
        "import matplotlib.pyplot as plt\n",
        "\n",
        "loss = history.history['loss']\n",
        "val_loss = history.history['val_loss']\n",
        "\n",
        "epochs = range(len(loss))\n",
        "\n",
        "plt.figure()\n",
        "\n",
        "plt.plot(epochs, loss, 'bo', label='Training loss')\n",
        "plt.plot(epochs, val_loss, 'b', label='Validation loss')\n",
        "plt.title('Training and validation loss')\n",
        "plt.legend()\n",
        "\n",
        "plt.show()"
      ],
      "execution_count": 0,
      "outputs": [
        {
          "output_type": "display_data",
          "data": {
            "image/png": "[encoded data removed]",
            "text/plain": [
              "<Figure size 432x288 with 1 Axes>"
            ]
          },
          "metadata": {
            "tags": []
          }
        }
      ]
    },
    {
      "cell_type": "markdown",
      "metadata": {
        "id": "Iv03rhQnIRUZ",
        "colab_type": "text"
      },
      "source": [
        "\n",
        "Some of our validation losses get close to the no-learning baseline, but not very reliably. This goes to show the merit of having had this baseline in the first place: it turns out not to be so easy to outperform. Our \n",
        "common sense contains already a lot of valuable information that a machine learning model does not have access to.\n",
        "\n",
        "You may ask, if there exists a simple, well-performing model to go from the data to the targets (our common sense baseline), why doesn't \n",
        "the model we are training find it and improve on it? Simply put: because this simple solution is not what our training setup is looking \n",
        "for. The space of models in which we are searching for a solution, i.e. our hypothesis space, is the space of all possible 2-layer networks \n",
        "with the configuration that we defined. These networks are already fairly complicated. When looking for a solution with a space of \n",
        "complicated models, the simple well-performing baseline might be unlearnable, even if it's technically part of the hypothesis space. That \n",
        "is a pretty significant limitation of machine learning in general: unless the learning algorithm is hard-coded to look for a specific kind \n",
        "of simple model, parameter learning can sometimes fail to find a simple solution to a simple problem."
      ]
    },
    {
      "cell_type": "markdown",
      "metadata": {
        "id": "ijC-ukzbIRUa",
        "colab_type": "text"
      },
      "source": [
        "## A first recurrent baseline\n",
        "\n",
        "\n",
        "Our first fully-connected approach didn't do so well, but that doesn't mean machine learning is not applicable to our problem. The approach \n",
        "above consisted in first flattening the timeseries, which removed the notion of time from the input data. Let us instead look at our data \n",
        "as what it is: a sequence, where causality and order matter. We will try a recurrent sequence processing model -- it should be the perfect \n",
        "fit for such sequence data, precisely because it does exploit the temporal ordering of data points, unlike our first approach.\n",
        "\n",
        "Instead of the `LSTM` layer introduced in the previous section, we will use the `GRU` layer, developed by Cho et al. in 2014. `GRU` layers \n",
        "(which stands for \"gated recurrent unit\") work by leveraging the same principle as LSTM, but they are somewhat streamlined and thus cheaper \n",
        "to run, albeit they may not have quite as much representational power as LSTM. This trade-off between computational expensiveness and \n",
        "representational power is seen everywhere in machine learning."
      ]
    },
    {
      "cell_type": "code",
      "metadata": {
        "id": "6qma47T0IRUb",
        "colab_type": "code",
        "outputId": "933724f6-82e0-4b39-dc4b-350bf4a0388f",
        "colab": {
          "base_uri": "https://localhost:8080/",
          "height": 1000
        }
      },
      "source": [
        "from keras.models import Sequential\n",
        "from keras import layers\n",
        "from keras.optimizers import RMSprop\n",
        "\n",
        "model = Sequential()\n",
        "model.add(layers.GRU(32, input_shape=(None, float_data.shape[-1])))\n",
        "model.add(layers.Dense(1))\n",
        "\n",
        "model.compile(optimizer=RMSprop(), loss='mae',metrics=['mae'])\n",
        "history = model.fit_generator(train_gen,\n",
        "                              steps_per_epoch=500,\n",
        "                              epochs=20,\n",
        "                              validation_data=val_gen,\n",
        "                              validation_steps=val_steps)"
      ],
      "execution_count": 0,
      "outputs": [
        {
          "output_type": "stream",
          "text": [
            "WARNING:tensorflow:From /usr/local/lib/python3.6/dist-packages/keras/backend/tensorflow_backend.py:66: The name tf.get_default_graph is deprecated. Please use tf.compat.v1.get_default_graph instead.\n",
            "\n",
            "WARNING:tensorflow:From /usr/local/lib/python3.6/dist-packages/keras/backend/tensorflow_backend.py:541: The name tf.placeholder is deprecated. Please use tf.compat.v1.placeholder instead.\n",
            "\n",
            "WARNING:tensorflow:From /usr/local/lib/python3.6/dist-packages/keras/backend/tensorflow_backend.py:4432: The name tf.random_uniform is deprecated. Please use tf.random.uniform instead.\n",
            "\n",
            "WARNING:tensorflow:From /usr/local/lib/python3.6/dist-packages/keras/optimizers.py:793: The name tf.train.Optimizer is deprecated. Please use tf.compat.v1.train.Optimizer instead.\n",
            "\n",
            "WARNING:tensorflow:From /usr/local/lib/python3.6/dist-packages/tensorflow_core/python/ops/math_grad.py:1424: where (from tensorflow.python.ops.array_ops) is deprecated and will be removed in a future version.\n",
            "Instructions for updating:\n",
            "Use tf.where in 2.0, which has the same broadcast rule as np.where\n",
            "WARNING:tensorflow:From /usr/local/lib/python3.6/dist-packages/keras/backend/tensorflow_backend.py:1033: The name tf.assign_add is deprecated. Please use tf.compat.v1.assign_add instead.\n",
            "\n",
            "WARNING:tensorflow:From /usr/local/lib/python3.6/dist-packages/keras/backend/tensorflow_backend.py:1020: The name tf.assign is deprecated. Please use tf.compat.v1.assign instead.\n",
            "\n",
            "WARNING:tensorflow:From /usr/local/lib/python3.6/dist-packages/keras/backend/tensorflow_backend.py:3005: The name tf.Session is deprecated. Please use tf.compat.v1.Session instead.\n",
            "\n",
            "Epoch 1/20\n",
            "WARNING:tensorflow:From /usr/local/lib/python3.6/dist-packages/keras/backend/tensorflow_backend.py:190: The name tf.get_default_session is deprecated. Please use tf.compat.v1.get_default_session instead.\n",
            "\n",
            "WARNING:tensorflow:From /usr/local/lib/python3.6/dist-packages/keras/backend/tensorflow_backend.py:197: The name tf.ConfigProto is deprecated. Please use tf.compat.v1.ConfigProto instead.\n",
            "\n",
            "WARNING:tensorflow:From /usr/local/lib/python3.6/dist-packages/keras/backend/tensorflow_backend.py:207: The name tf.global_variables is deprecated. Please use tf.compat.v1.global_variables instead.\n",
            "\n",
            "WARNING:tensorflow:From /usr/local/lib/python3.6/dist-packages/keras/backend/tensorflow_backend.py:216: The name tf.is_variable_initialized is deprecated. Please use tf.compat.v1.is_variable_initialized instead.\n",
            "\n",
            "WARNING:tensorflow:From /usr/local/lib/python3.6/dist-packages/keras/backend/tensorflow_backend.py:223: The name tf.variables_initializer is deprecated. Please use tf.compat.v1.variables_initializer instead.\n",
            "\n",
            "500/500 [==============================] - 105s 209ms/step - loss: 0.3006 - mean_absolute_error: 0.3006 - val_loss: 0.2715 - val_mean_absolute_error: 0.2715\n",
            "Epoch 2/20\n",
            "500/500 [==============================] - 103s 206ms/step - loss: 0.2836 - mean_absolute_error: 0.2836 - val_loss: 0.2701 - val_mean_absolute_error: 0.2701\n",
            "Epoch 3/20\n",
            "500/500 [==============================] - 103s 206ms/step - loss: 0.2768 - mean_absolute_error: 0.2768 - val_loss: 0.2713 - val_mean_absolute_error: 0.2713\n",
            "Epoch 4/20\n",
            "500/500 [==============================] - 102s 204ms/step - loss: 0.2725 - mean_absolute_error: 0.2725 - val_loss: 0.2668 - val_mean_absolute_error: 0.2668\n",
            "Epoch 5/20\n",
            "500/500 [==============================] - 102s 204ms/step - loss: 0.2678 - mean_absolute_error: 0.2678 - val_loss: 0.2642 - val_mean_absolute_error: 0.2642\n",
            "Epoch 6/20\n",
            "500/500 [==============================] - 102s 204ms/step - loss: 0.2646 - mean_absolute_error: 0.2646 - val_loss: 0.2644 - val_mean_absolute_error: 0.2644\n",
            "Epoch 7/20\n",
            "500/500 [==============================] - 102s 205ms/step - loss: 0.2598 - mean_absolute_error: 0.2598 - val_loss: 0.2661 - val_mean_absolute_error: 0.2661\n",
            "Epoch 8/20\n",
            "500/500 [==============================] - 102s 203ms/step - loss: 0.2546 - mean_absolute_error: 0.2546 - val_loss: 0.2699 - val_mean_absolute_error: 0.2699\n",
            "Epoch 9/20\n",
            "500/500 [==============================] - 102s 204ms/step - loss: 0.2514 - mean_absolute_error: 0.2514 - val_loss: 0.2779 - val_mean_absolute_error: 0.2779\n",
            "Epoch 10/20\n",
            "500/500 [==============================] - 102s 204ms/step - loss: 0.2463 - mean_absolute_error: 0.2463 - val_loss: 0.2747 - val_mean_absolute_error: 0.2747\n",
            "Epoch 11/20\n",
            "500/500 [==============================] - 101s 203ms/step - loss: 0.2404 - mean_absolute_error: 0.2404 - val_loss: 0.2753 - val_mean_absolute_error: 0.2753\n",
            "Epoch 12/20\n",
            "500/500 [==============================] - 102s 204ms/step - loss: 0.2374 - mean_absolute_error: 0.2374 - val_loss: 0.2824 - val_mean_absolute_error: 0.2824\n",
            "Epoch 13/20\n",
            "500/500 [==============================] - 102s 204ms/step - loss: 0.2336 - mean_absolute_error: 0.2336 - val_loss: 0.2839 - val_mean_absolute_error: 0.2839\n",
            "Epoch 14/20\n",
            "500/500 [==============================] - 103s 206ms/step - loss: 0.2290 - mean_absolute_error: 0.2290 - val_loss: 0.2854 - val_mean_absolute_error: 0.2854\n",
            "Epoch 15/20\n",
            "500/500 [==============================] - 103s 207ms/step - loss: 0.2250 - mean_absolute_error: 0.2250 - val_loss: 0.2882 - val_mean_absolute_error: 0.2882\n",
            "Epoch 16/20\n",
            "500/500 [==============================] - 102s 204ms/step - loss: 0.2223 - mean_absolute_error: 0.2223 - val_loss: 0.2936 - val_mean_absolute_error: 0.2936\n",
            "Epoch 17/20\n",
            "500/500 [==============================] - 103s 207ms/step - loss: 0.2199 - mean_absolute_error: 0.2199 - val_loss: 0.2947 - val_mean_absolute_error: 0.2947\n",
            "Epoch 18/20\n",
            "500/500 [==============================] - 103s 206ms/step - loss: 0.2167 - mean_absolute_error: 0.2167 - val_loss: 0.2968 - val_mean_absolute_error: 0.2968\n",
            "Epoch 19/20\n",
            "500/500 [==============================] - 103s 205ms/step - loss: 0.2117 - mean_absolute_error: 0.2117 - val_loss: 0.3007 - val_mean_absolute_error: 0.3007\n",
            "Epoch 20/20\n",
            "500/500 [==============================] - 102s 205ms/step - loss: 0.2088 - mean_absolute_error: 0.2088 - val_loss: 0.2981 - val_mean_absolute_error: 0.2981\n"
          ],
          "name": "stdout"
        }
      ]
    },
    {
      "cell_type": "markdown",
      "metadata": {
        "id": "aYmkHBQMIRUf",
        "colab_type": "text"
      },
      "source": [
        "Let look at our results:"
      ]
    },
    {
      "cell_type": "code",
      "metadata": {
        "id": "zUXP8qvvIRUg",
        "colab_type": "code",
        "outputId": "f0d4322d-a46e-4d58-c1ee-0dd79524a308",
        "colab": {
          "base_uri": "https://localhost:8080/",
          "height": 281
        }
      },
      "source": [
        "import matplotlib.pyplot as plt\n",
        "\n",
        "loss = history.history['loss']\n",
        "val_loss = history.history['val_loss']\n",
        "\n",
        "epochs = range(len(loss))\n",
        "\n",
        "plt.figure()\n",
        "\n",
        "plt.plot(epochs, loss, 'bo', label='Training loss')\n",
        "plt.plot(epochs, val_loss, 'b', label='Validation loss')\n",
        "plt.title('Training and validation loss')\n",
        "plt.legend()\n",
        "\n",
        "plt.show()"
      ],
      "execution_count": 0,
      "outputs": [
        {
          "output_type": "display_data",
          "data": {
            "image/png": "[encoded data removed]",
            "text/plain": [
              "<Figure size 432x288 with 1 Axes>"
            ]
          },
          "metadata": {
            "tags": []
          }
        }
      ]
    },
    {
      "cell_type": "markdown",
      "metadata": {
        "id": "U8Ae-2dmIRUl",
        "colab_type": "text"
      },
      "source": [
        "\n",
        "Much better! We are able to significantly beat the common sense baseline, such demonstrating the value of machine learning here, as well as \n",
        "the superiority of recurrent networks compared to sequence-flattening dense networks on this type of task.\n",
        "\n",
        "Our new validation MAE of ~0.265 (before we start significantly overfitting) translates to a mean absolute error of 2.35˚C after \n",
        "de-normalization. That's a solid gain on our initial error of 2.57˚C, but we probably still have a bit of margin for improvement."
      ]
    },
    {
      "cell_type": "markdown",
      "metadata": {
        "id": "64PcqJBzIRUm",
        "colab_type": "text"
      },
      "source": [
        "## Using recurrent dropout to fight overfitting\n",
        "\n",
        "\n",
        "It is evident from our training and validation curves that our model is overfitting: the training and validation losses start diverging \n",
        "considerably after a few epochs. You are already familiar with a classic technique for fighting this phenomenon: dropout, consisting in \n",
        "randomly zeroing-out input units of a layer in order to break happenstance correlations in the training data that the layer is exposed to. \n",
        "How to correctly apply dropout in recurrent networks, however, is not a trivial question. It has long been known that applying dropout \n",
        "before a recurrent layer hinders learning rather than helping with regularization. In 2015, Yarin Gal, as part of his Ph.D. thesis on \n",
        "Bayesian deep learning, determined the proper way to use dropout with a recurrent network: the same dropout mask (the same pattern of \n",
        "dropped units) should be applied at every timestep, instead of a dropout mask that would vary randomly from timestep to timestep. What's \n",
        "more: in order to regularize the representations formed by the recurrent gates of layers such as GRU and LSTM, a temporally constant \n",
        "dropout mask should be applied to the inner recurrent activations of the layer (a \"recurrent\" dropout mask). Using the same dropout mask at \n",
        "every timestep allows the network to properly propagate its learning error through time; a temporally random dropout mask would instead \n",
        "disrupt this error signal and be harmful to the learning process.\n",
        "\n",
        "Yarin Gal did his research using Keras and helped build this mechanism directly into Keras recurrent layers. Every recurrent layer in Keras \n",
        "has two dropout-related arguments: `dropout`, a float specifying the dropout rate for input units of the layer, and `recurrent_dropout`, \n",
        "specifying the dropout rate of the recurrent units. Let's add dropout and recurrent dropout to our GRU layer and see how it impacts \n",
        "overfitting. Because networks being regularized with dropout always take longer to fully converge, we train our network for twice as many \n",
        "epochs."
      ]
    },
    {
      "cell_type": "code",
      "metadata": {
        "id": "OoTLGgvLIRUp",
        "colab_type": "code",
        "outputId": "3ec86bf1-7b9f-447e-d83b-383e2b82b347",
        "colab": {
          "base_uri": "https://localhost:8080/",
          "height": 1000
        }
      },
      "source": [
        "from keras.models import Sequential\n",
        "from keras import layers\n",
        "from keras.optimizers import RMSprop\n",
        "\n",
        "model = Sequential()\n",
        "model.add(layers.GRU(32,\n",
        "                     dropout=0.2,\n",
        "                     recurrent_dropout=0.2,\n",
        "                     input_shape=(None, float_data.shape[-1])))\n",
        "model.add(layers.Dense(1))\n",
        "\n",
        "model.compile(optimizer=RMSprop(), loss='mae')\n",
        "history = model.fit_generator(train_gen,\n",
        "                              steps_per_epoch=500,\n",
        "                              epochs=40,\n",
        "                              validation_data=val_gen,\n",
        "                              validation_steps=val_steps)"
      ],
      "execution_count": 0,
      "outputs": [
        {
          "output_type": "stream",
          "text": [
            "WARNING:tensorflow:From /usr/local/lib/python3.6/dist-packages/keras/backend/tensorflow_backend.py:148: The name tf.placeholder_with_default is deprecated. Please use tf.compat.v1.placeholder_with_default instead.\n",
            "\n",
            "WARNING:tensorflow:From /usr/local/lib/python3.6/dist-packages/keras/backend/tensorflow_backend.py:3733: calling dropout (from tensorflow.python.ops.nn_ops) with keep_prob is deprecated and will be removed in a future version.\n",
            "Instructions for updating:\n",
            "Please use `rate` instead of `keep_prob`. Rate should be set to `rate = 1 - keep_prob`.\n",
            "Epoch 1/40\n",
            "500/500 [==============================] - 121s 242ms/step - loss: 0.3372 - val_loss: 0.2790\n",
            "Epoch 2/40\n",
            "500/500 [==============================] - 120s 239ms/step - loss: 0.3163 - val_loss: 0.2735\n",
            "Epoch 3/40\n",
            "500/500 [==============================] - 119s 239ms/step - loss: 0.3089 - val_loss: 0.2711\n",
            "Epoch 4/40\n",
            "500/500 [==============================] - 120s 240ms/step - loss: 0.3057 - val_loss: 0.2687\n",
            "Epoch 5/40\n",
            "500/500 [==============================] - 120s 239ms/step - loss: 0.3024 - val_loss: 0.2696\n",
            "Epoch 6/40\n",
            "500/500 [==============================] - 120s 240ms/step - loss: 0.3003 - val_loss: 0.2691\n",
            "Epoch 7/40\n",
            "500/500 [==============================] - 121s 242ms/step - loss: 0.2960 - val_loss: 0.2656\n",
            "Epoch 8/40\n",
            "500/500 [==============================] - 120s 240ms/step - loss: 0.2941 - val_loss: 0.2678\n",
            "Epoch 9/40\n",
            "500/500 [==============================] - 119s 239ms/step - loss: 0.2931 - val_loss: 0.2699\n",
            "Epoch 10/40\n",
            "500/500 [==============================] - 120s 240ms/step - loss: 0.2911 - val_loss: 0.2670\n",
            "Epoch 11/40\n",
            "500/500 [==============================] - 120s 239ms/step - loss: 0.2902 - val_loss: 0.2631\n",
            "Epoch 12/40\n",
            "500/500 [==============================] - 120s 240ms/step - loss: 0.2883 - val_loss: 0.2635\n",
            "Epoch 13/40\n",
            "500/500 [==============================] - 119s 239ms/step - loss: 0.2870 - val_loss: 0.2593\n",
            "Epoch 14/40\n",
            "500/500 [==============================] - 120s 240ms/step - loss: 0.2855 - val_loss: 0.2636\n",
            "Epoch 15/40\n",
            "500/500 [==============================] - 120s 240ms/step - loss: 0.2843 - val_loss: 0.2631\n",
            "Epoch 16/40\n",
            "500/500 [==============================] - 122s 243ms/step - loss: 0.2842 - val_loss: 0.2707\n",
            "Epoch 17/40\n",
            "500/500 [==============================] - 124s 247ms/step - loss: 0.2825 - val_loss: 0.2621\n",
            "Epoch 18/40\n",
            "500/500 [==============================] - 123s 246ms/step - loss: 0.2838 - val_loss: 0.2624\n",
            "Epoch 19/40\n",
            "500/500 [==============================] - 123s 247ms/step - loss: 0.2810 - val_loss: 0.2657\n",
            "Epoch 20/40\n",
            "500/500 [==============================] - 123s 245ms/step - loss: 0.2818 - val_loss: 0.2626\n",
            "Epoch 21/40\n",
            "500/500 [==============================] - 123s 245ms/step - loss: 0.2794 - val_loss: 0.2646\n",
            "Epoch 22/40\n",
            "500/500 [==============================] - 123s 245ms/step - loss: 0.2804 - val_loss: 0.2653\n",
            "Epoch 23/40\n",
            "500/500 [==============================] - 123s 246ms/step - loss: 0.2785 - val_loss: 0.2639\n",
            "Epoch 24/40\n",
            "500/500 [==============================] - 123s 245ms/step - loss: 0.2794 - val_loss: 0.2695\n",
            "Epoch 25/40\n",
            "500/500 [==============================] - 124s 249ms/step - loss: 0.2763 - val_loss: 0.2619\n",
            "Epoch 26/40\n",
            "500/500 [==============================] - 123s 246ms/step - loss: 0.2769 - val_loss: 0.2633\n",
            "Epoch 27/40\n",
            "500/500 [==============================] - 122s 244ms/step - loss: 0.2771 - val_loss: 0.2674\n",
            "Epoch 28/40\n",
            "500/500 [==============================] - 122s 243ms/step - loss: 0.2756 - val_loss: 0.2645\n",
            "Epoch 29/40\n",
            "500/500 [==============================] - 122s 243ms/step - loss: 0.2760 - val_loss: 0.2609\n",
            "Epoch 30/40\n",
            "500/500 [==============================] - 122s 244ms/step - loss: 0.2753 - val_loss: 0.2634\n",
            "Epoch 31/40\n",
            "500/500 [==============================] - 122s 244ms/step - loss: 0.2730 - val_loss: 0.2646\n",
            "Epoch 32/40\n",
            "500/500 [==============================] - 123s 246ms/step - loss: 0.2763 - val_loss: 0.2646\n",
            "Epoch 33/40\n",
            "500/500 [==============================] - 122s 243ms/step - loss: 0.2744 - val_loss: 0.2634\n",
            "Epoch 34/40\n",
            "500/500 [==============================] - 122s 243ms/step - loss: 0.2732 - val_loss: 0.2700\n",
            "Epoch 35/40\n",
            "500/500 [==============================] - 124s 247ms/step - loss: 0.2738 - val_loss: 0.2659\n",
            "Epoch 36/40\n",
            "500/500 [==============================] - 124s 248ms/step - loss: 0.2739 - val_loss: 0.2707\n",
            "Epoch 37/40\n",
            "500/500 [==============================] - 124s 249ms/step - loss: 0.2739 - val_loss: 0.2673\n",
            "Epoch 38/40\n",
            "500/500 [==============================] - 124s 248ms/step - loss: 0.2727 - val_loss: 0.2670\n",
            "Epoch 39/40\n",
            "500/500 [==============================] - 124s 247ms/step - loss: 0.2725 - val_loss: 0.2663\n",
            "Epoch 40/40\n",
            "500/500 [==============================] - 124s 248ms/step - loss: 0.2719 - val_loss: 0.2692\n"
          ],
          "name": "stdout"
        }
      ]
    },
    {
      "cell_type": "code",
      "metadata": {
        "id": "vbQkdQs8IRUt",
        "colab_type": "code",
        "outputId": "c7187907-3ed7-4b1d-ccf0-3abdf36fcbb5",
        "colab": {
          "base_uri": "https://localhost:8080/",
          "height": 281
        }
      },
      "source": [
        "loss = history.history['loss']\n",
        "val_loss = history.history['val_loss']\n",
        "\n",
        "epochs = range(len(loss))\n",
        "\n",
        "plt.figure()\n",
        "\n",
        "plt.plot(epochs, loss, 'bo', label='Training loss')\n",
        "plt.plot(epochs, val_loss, 'b', label='Validation loss')\n",
        "plt.title('Training and validation loss')\n",
        "plt.legend()\n",
        "\n",
        "plt.show()"
      ],
      "execution_count": 0,
      "outputs": [
        {
          "output_type": "display_data",
          "data": {
            "image/png": "[encoded data removed]",
            "text/plain": [
              "<Figure size 432x288 with 1 Axes>"
            ]
          },
          "metadata": {
            "tags": []
          }
        }
      ]
    },
    {
      "cell_type": "markdown",
      "metadata": {
        "id": "H7O-c_52IRU3",
        "colab_type": "text"
      },
      "source": [
        "Great success; we are no longer overfitting during the first 30 epochs. However, while we have more stable evaluation scores, our best \n",
        "scores are not much lower than they were previously."
      ]
    },
    {
      "cell_type": "markdown",
      "metadata": {
        "id": "aVIovO-lIRU6",
        "colab_type": "text"
      },
      "source": [
        "## Stacking recurrent layers\n",
        "\n",
        "Since we are no longer overfitting yet we seem to have hit a performance bottleneck, we should start considering increasing the capacity of \n",
        "our network. If you remember our description of the \"universal machine learning workflow\": it is a generally a good idea to increase the \n",
        "capacity of your network until overfitting becomes your primary obstacle (assuming that you are already taking basic steps to mitigate \n",
        "overfitting, such as using dropout). As long as you are not overfitting too badly, then you are likely under-capacity.\n",
        "\n",
        "Increasing network capacity is typically done by increasing the number of units in the layers, or adding more layers. Recurrent layer \n",
        "stacking is a classic way to build more powerful recurrent networks: for instance, what currently powers the Google translate algorithm is \n",
        "a stack of seven large LSTM layers -- that's huge.\n",
        "\n",
        "To stack recurrent layers on top of each other in Keras, all intermediate layers should return their full sequence of outputs (a 3D tensor) \n",
        "rather than their output at the last timestep. This is done by specifying `return_sequences=True`: "
      ]
    },
    {
      "cell_type": "code",
      "metadata": {
        "id": "qWaWXyGjIRU8",
        "colab_type": "code",
        "outputId": "e04c1425-83d1-4473-8cc3-f616a7f31aed",
        "colab": {
          "base_uri": "https://localhost:8080/",
          "height": 1000
        }
      },
      "source": [
        "from keras.models import Sequential\n",
        "from keras import layers\n",
        "from keras.optimizers import RMSprop\n",
        "\n",
        "model = Sequential()\n",
        "model.add(layers.GRU(32,\n",
        "                     dropout=0.1,\n",
        "                     recurrent_dropout=0.5,\n",
        "                     return_sequences=True,\n",
        "                     input_shape=(None, float_data.shape[-1])))\n",
        "model.add(layers.GRU(64, activation='relu',\n",
        "                     dropout=0.1, \n",
        "                     recurrent_dropout=0.5))\n",
        "model.add(layers.Dense(1))\n",
        "\n",
        "model.compile(optimizer=RMSprop(), loss='mae')\n",
        "history = model.fit_generator(train_gen,\n",
        "                              steps_per_epoch=500,\n",
        "                              epochs=40,\n",
        "                              validation_data=val_gen,\n",
        "                              validation_steps=val_steps)"
      ],
      "execution_count": 9,
      "outputs": [
        {
          "output_type": "stream",
          "text": [
            "WARNING:tensorflow:From /usr/local/lib/python3.6/dist-packages/keras/backend/tensorflow_backend.py:66: The name tf.get_default_graph is deprecated. Please use tf.compat.v1.get_default_graph instead.\n",
            "\n",
            "WARNING:tensorflow:From /usr/local/lib/python3.6/dist-packages/keras/backend/tensorflow_backend.py:541: The name tf.placeholder is deprecated. Please use tf.compat.v1.placeholder instead.\n",
            "\n",
            "WARNING:tensorflow:From /usr/local/lib/python3.6/dist-packages/keras/backend/tensorflow_backend.py:4432: The name tf.random_uniform is deprecated. Please use tf.random.uniform instead.\n",
            "\n",
            "WARNING:tensorflow:From /usr/local/lib/python3.6/dist-packages/keras/backend/tensorflow_backend.py:148: The name tf.placeholder_with_default is deprecated. Please use tf.compat.v1.placeholder_with_default instead.\n",
            "\n",
            "WARNING:tensorflow:From /usr/local/lib/python3.6/dist-packages/keras/backend/tensorflow_backend.py:3733: calling dropout (from tensorflow.python.ops.nn_ops) with keep_prob is deprecated and will be removed in a future version.\n",
            "Instructions for updating:\n",
            "Please use `rate` instead of `keep_prob`. Rate should be set to `rate = 1 - keep_prob`.\n",
            "WARNING:tensorflow:From /usr/local/lib/python3.6/dist-packages/keras/optimizers.py:793: The name tf.train.Optimizer is deprecated. Please use tf.compat.v1.train.Optimizer instead.\n",
            "\n",
            "WARNING:tensorflow:From /usr/local/lib/python3.6/dist-packages/tensorflow_core/python/ops/math_grad.py:1424: where (from tensorflow.python.ops.array_ops) is deprecated and will be removed in a future version.\n",
            "Instructions for updating:\n",
            "Use tf.where in 2.0, which has the same broadcast rule as np.where\n",
            "WARNING:tensorflow:From /usr/local/lib/python3.6/dist-packages/keras/backend/tensorflow_backend.py:1033: The name tf.assign_add is deprecated. Please use tf.compat.v1.assign_add instead.\n",
            "\n",
            "WARNING:tensorflow:From /usr/local/lib/python3.6/dist-packages/keras/backend/tensorflow_backend.py:1020: The name tf.assign is deprecated. Please use tf.compat.v1.assign instead.\n",
            "\n",
            "WARNING:tensorflow:From /usr/local/lib/python3.6/dist-packages/keras/backend/tensorflow_backend.py:3005: The name tf.Session is deprecated. Please use tf.compat.v1.Session instead.\n",
            "\n",
            "Epoch 1/40\n",
            "WARNING:tensorflow:From /usr/local/lib/python3.6/dist-packages/keras/backend/tensorflow_backend.py:190: The name tf.get_default_session is deprecated. Please use tf.compat.v1.get_default_session instead.\n",
            "\n",
            "WARNING:tensorflow:From /usr/local/lib/python3.6/dist-packages/keras/backend/tensorflow_backend.py:197: The name tf.ConfigProto is deprecated. Please use tf.compat.v1.ConfigProto instead.\n",
            "\n",
            "WARNING:tensorflow:From /usr/local/lib/python3.6/dist-packages/keras/backend/tensorflow_backend.py:207: The name tf.global_variables is deprecated. Please use tf.compat.v1.global_variables instead.\n",
            "\n",
            "WARNING:tensorflow:From /usr/local/lib/python3.6/dist-packages/keras/backend/tensorflow_backend.py:216: The name tf.is_variable_initialized is deprecated. Please use tf.compat.v1.is_variable_initialized instead.\n",
            "\n",
            "WARNING:tensorflow:From /usr/local/lib/python3.6/dist-packages/keras/backend/tensorflow_backend.py:223: The name tf.variables_initializer is deprecated. Please use tf.compat.v1.variables_initializer instead.\n",
            "\n",
            "500/500 [==============================] - 408s 817ms/step - loss: 0.3326 - val_loss: 0.2786\n",
            "Epoch 2/40\n",
            "500/500 [==============================] - 402s 804ms/step - loss: 0.3110 - val_loss: 0.2750\n",
            "Epoch 3/40\n",
            "500/500 [==============================] - 351s 702ms/step - loss: 0.3049 - val_loss: 0.2753\n",
            "Epoch 4/40\n",
            "500/500 [==============================] - 329s 659ms/step - loss: 0.3023 - val_loss: 0.2711\n",
            "Epoch 5/40\n",
            "500/500 [==============================] - 335s 670ms/step - loss: 0.2987 - val_loss: 0.2669\n",
            "Epoch 6/40\n",
            "500/500 [==============================] - 346s 691ms/step - loss: 0.2963 - val_loss: 0.2661\n",
            "Epoch 7/40\n",
            "500/500 [==============================] - 349s 697ms/step - loss: 0.2933 - val_loss: 0.2667\n",
            "Epoch 8/40\n",
            "500/500 [==============================] - 337s 674ms/step - loss: 0.2895 - val_loss: 0.2663\n",
            "Epoch 9/40\n",
            "500/500 [==============================] - 328s 657ms/step - loss: 0.2891 - val_loss: 0.2701\n",
            "Epoch 10/40\n",
            "500/500 [==============================] - 322s 644ms/step - loss: 0.2869 - val_loss: 0.2651\n",
            "Epoch 11/40\n",
            "500/500 [==============================] - 326s 652ms/step - loss: 0.2853 - val_loss: 0.2632\n",
            "Epoch 12/40\n",
            "500/500 [==============================] - 328s 657ms/step - loss: 0.2824 - val_loss: 0.2686\n",
            "Epoch 13/40\n",
            "500/500 [==============================] - 330s 660ms/step - loss: 0.2812 - val_loss: 0.2651\n",
            "Epoch 14/40\n",
            "500/500 [==============================] - 333s 667ms/step - loss: 0.2804 - val_loss: 0.2629\n",
            "Epoch 15/40\n",
            "500/500 [==============================] - 329s 659ms/step - loss: 0.2801 - val_loss: 0.2667\n",
            "Epoch 16/40\n",
            "500/500 [==============================] - 330s 659ms/step - loss: 0.2761 - val_loss: 0.2680\n",
            "Epoch 17/40\n",
            "500/500 [==============================] - 330s 660ms/step - loss: 0.2746 - val_loss: 0.2654\n",
            "Epoch 18/40\n",
            "500/500 [==============================] - 331s 662ms/step - loss: 0.2726 - val_loss: 0.2727\n",
            "Epoch 19/40\n",
            "500/500 [==============================] - 333s 666ms/step - loss: 0.2727 - val_loss: 0.2636\n",
            "Epoch 20/40\n",
            "500/500 [==============================] - 332s 665ms/step - loss: 0.2703 - val_loss: 0.2649\n",
            "Epoch 21/40\n",
            "500/500 [==============================] - 332s 664ms/step - loss: 0.2698 - val_loss: 0.2692\n",
            "Epoch 22/40\n",
            "500/500 [==============================] - 336s 672ms/step - loss: 0.2675 - val_loss: 0.2665\n",
            "Epoch 23/40\n",
            "500/500 [==============================] - 341s 681ms/step - loss: 0.2668 - val_loss: 0.2683\n",
            "Epoch 24/40\n",
            "500/500 [==============================] - 332s 664ms/step - loss: 0.2640 - val_loss: 0.2686\n",
            "Epoch 25/40\n",
            "500/500 [==============================] - 333s 667ms/step - loss: 0.2640 - val_loss: 0.2705\n",
            "Epoch 26/40\n",
            "500/500 [==============================] - 336s 672ms/step - loss: 0.2624 - val_loss: 0.2720\n",
            "Epoch 27/40\n",
            "500/500 [==============================] - 331s 662ms/step - loss: 0.2620 - val_loss: 0.2775\n",
            "Epoch 28/40\n",
            "500/500 [==============================] - 331s 663ms/step - loss: 0.2614 - val_loss: 0.2687\n",
            "Epoch 29/40\n",
            "500/500 [==============================] - 333s 665ms/step - loss: 0.2596 - val_loss: 0.2731\n",
            "Epoch 30/40\n",
            "500/500 [==============================] - 335s 670ms/step - loss: 0.2606 - val_loss: 0.2761\n",
            "Epoch 31/40\n",
            "500/500 [==============================] - 334s 668ms/step - loss: 0.2593 - val_loss: 0.2738\n",
            "Epoch 32/40\n",
            "500/500 [==============================] - 331s 663ms/step - loss: 0.2587 - val_loss: 0.2726\n",
            "Epoch 33/40\n",
            "500/500 [==============================] - 329s 657ms/step - loss: 0.2566 - val_loss: 0.2706\n",
            "Epoch 34/40\n",
            "500/500 [==============================] - 330s 659ms/step - loss: 0.2566 - val_loss: 0.2716\n",
            "Epoch 35/40\n",
            "500/500 [==============================] - 333s 665ms/step - loss: 0.2579 - val_loss: 0.2739\n",
            "Epoch 36/40\n",
            "500/500 [==============================] - 332s 664ms/step - loss: 0.2549 - val_loss: 0.2755\n",
            "Epoch 37/40\n",
            "500/500 [==============================] - 329s 657ms/step - loss: 0.2559 - val_loss: 0.2727\n",
            "Epoch 38/40\n",
            "500/500 [==============================] - 329s 659ms/step - loss: 0.2544 - val_loss: 0.2813\n",
            "Epoch 39/40\n",
            "500/500 [==============================] - 328s 656ms/step - loss: 0.2529 - val_loss: 0.2797\n",
            "Epoch 40/40\n",
            "500/500 [==============================] - 331s 663ms/step - loss: 0.2534 - val_loss: 0.2745\n"
          ],
          "name": "stdout"
        }
      ]
    },
    {
      "cell_type": "markdown",
      "metadata": {
        "id": "hczeUhWlIRVE",
        "colab_type": "text"
      },
      "source": [
        "Let's take a look at our results:"
      ]
    },
    {
      "cell_type": "code",
      "metadata": {
        "id": "MgnR5F0tIRVG",
        "colab_type": "code",
        "outputId": "2bdef6c8-6b52-4fba-e88a-0851259619da",
        "colab": {}
      },
      "source": [
        "loss = history.history['loss']\n",
        "val_loss = history.history['val_loss']\n",
        "\n",
        "epochs = range(len(loss))\n",
        "\n",
        "plt.figure()\n",
        "\n",
        "plt.plot(epochs, loss, 'bo', label='Training loss')\n",
        "plt.plot(epochs, val_loss, 'b', label='Validation loss')\n",
        "plt.title('Training and validation loss')\n",
        "plt.legend()\n",
        "\n",
        "plt.show()"
      ],
      "execution_count": 0,
      "outputs": [
        {
          "output_type": "display_data",
          "data": {
            "text/plain": [
              "<matplotlib.figure.Figure at 0x7f33151ee630>"
            ]
          },
          "metadata": {
            "tags": []
          }
        },
        {
          "output_type": "display_data",
          "data": {
            "image/png": "[encoded data removed]",
            "text/plain": [
              "<matplotlib.figure.Figure at 0x7f3315184390>"
            ]
          },
          "metadata": {
            "tags": []
          }
        }
      ]
    },
    {
      "cell_type": "markdown",
      "metadata": {
        "id": "2t08sppNIRVO",
        "colab_type": "text"
      },
      "source": [
        "We can see that the added layers does improve ours results by a bit, albeit not very significantly. We can draw two conclusions:\n",
        "\n",
        "* Since we are still not overfitting too badly, we could safely increase the size of our layers, in quest for a bit of validation loss \n",
        "improvement. This does have a non-negligible computational cost, though. \n",
        "* Since adding a layer did not help us by a significant factor, we may be seeing diminishing returns to increasing network capacity at this \n",
        "point."
      ]
    },
    {
      "cell_type": "markdown",
      "metadata": {
        "id": "FKAxcFjGIRVP",
        "colab_type": "text"
      },
      "source": [
        "## Using bidirectional RNNs\n",
        "\n",
        "\n",
        "The last technique that we will introduce in this section is called \"bidirectional RNNs\". A bidirectional RNN is common RNN variant which \n",
        "can offer higher performance than a regular RNN on certain tasks. It is frequently used in natural language processing -- you could call it \n",
        "the Swiss army knife of deep learning for NLP.\n",
        "\n",
        "RNNs are notably order-dependent, or time-dependent: they process the timesteps of their input sequences in order, and shuffling or \n",
        "reversing the timesteps can completely change the representations that the RNN will extract from the sequence. This is precisely the reason \n",
        "why they perform well on problems where order is meaningful, such as our temperature forecasting problem. A bidirectional RNN exploits \n",
        "the order-sensitivity of RNNs: it simply consists of two regular RNNs, such as the GRU or LSTM layers that you are already familiar with, \n",
        "each processing input sequence in one direction (chronologically and antichronologically), then merging their representations. By \n",
        "processing a sequence both way, a bidirectional RNN is able to catch patterns that may have been overlooked by a one-direction RNN.\n",
        "\n",
        "Remarkably, the fact that the RNN layers in this section have so far processed sequences in chronological order (older timesteps first) may \n",
        "have been an arbitrary decision. At least, it's a decision we made no attempt at questioning so far. Could it be that our RNNs could have \n",
        "performed well enough if it were processing input sequences in antichronological order, for instance (newer timesteps first)? Let's try \n",
        "this in practice and see what we get. All we need to do is write a variant of our data generator, where the input sequences get reverted \n",
        "along the time dimension (replace the last line with `yield samples[:, ::-1, :], targets`). Training the same one-GRU-layer network as we \n",
        "used in the first experiment in this section, we get the following results:"
      ]
    },
    {
      "cell_type": "code",
      "metadata": {
        "id": "MHt8TOD9IRVS",
        "colab_type": "code",
        "colab": {}
      },
      "source": [
        "def reverse_order_generator(data, lookback, delay, min_index, max_index,\n",
        "                            shuffle=False, batch_size=128, step=6):\n",
        "    if max_index is None:\n",
        "        max_index = len(data) - delay - 1\n",
        "    i = min_index + lookback\n",
        "    while 1:\n",
        "        if shuffle:\n",
        "            rows = np.random.randint(\n",
        "                min_index + lookback, max_index, size=batch_size)\n",
        "        else:\n",
        "            if i + batch_size >= max_index:\n",
        "                i = min_index + lookback\n",
        "            rows = np.arange(i, min(i + batch_size, max_index))\n",
        "            i += len(rows)\n",
        "\n",
        "        samples = np.zeros((len(rows),\n",
        "                           lookback // step,\n",
        "                           data.shape[-1]))\n",
        "        targets = np.zeros((len(rows),))\n",
        "        for j, row in enumerate(rows):\n",
        "            indices = range(rows[j] - lookback, rows[j], step)\n",
        "            samples[j] = data[indices]\n",
        "            targets[j] = data[rows[j] + delay][1]\n",
        "        yield samples[:, ::-1, :], targets\n",
        "        \n",
        "train_gen_reverse = reverse_order_generator(\n",
        "    float_data,\n",
        "    lookback=lookback,\n",
        "    delay=delay,\n",
        "    min_index=0,\n",
        "    max_index=200000,\n",
        "    shuffle=True,\n",
        "    step=step, \n",
        "    batch_size=batch_size)\n",
        "val_gen_reverse = reverse_order_generator(\n",
        "    float_data,\n",
        "    lookback=lookback,\n",
        "    delay=delay,\n",
        "    min_index=200001,\n",
        "    max_index=300000,\n",
        "    step=step,\n",
        "    batch_size=batch_size)"
      ],
      "execution_count": 0,
      "outputs": []
    },
    {
      "cell_type": "code",
      "metadata": {
        "id": "9fCQVxUYIRVY",
        "colab_type": "code",
        "outputId": "ec1a1078-d78b-4cad-e384-a1780b77ed59",
        "colab": {}
      },
      "source": [
        "model = Sequential()\n",
        "model.add(layers.GRU(32, input_shape=(None, float_data.shape[-1])))\n",
        "model.add(layers.Dense(1))\n",
        "\n",
        "model.compile(optimizer=RMSprop(), loss='mae')\n",
        "history = model.fit_generator(train_gen_reverse,\n",
        "                              steps_per_epoch=500,\n",
        "                              epochs=20,\n",
        "                              validation_data=val_gen_reverse,\n",
        "                              validation_steps=val_steps)"
      ],
      "execution_count": 0,
      "outputs": [
        {
          "output_type": "stream",
          "text": [
            "Epoch 1/20\n",
            "500/500 [==============================] - 172s - loss: 0.4781 - val_loss: 0.4797\n",
            "Epoch 2/20\n",
            "500/500 [==============================] - 171s - loss: 0.4529 - val_loss: 0.4679\n",
            "Epoch 3/20\n",
            "500/500 [==============================] - 170s - loss: 0.4071 - val_loss: 0.4536\n",
            "Epoch 4/20\n",
            "500/500 [==============================] - 171s - loss: 0.3670 - val_loss: 0.4398\n",
            "Epoch 5/20\n",
            "500/500 [==============================] - 170s - loss: 0.3343 - val_loss: 0.4320\n",
            "Epoch 6/20\n",
            "500/500 [==============================] - 170s - loss: 0.3191 - val_loss: 0.4388\n",
            "Epoch 7/20\n",
            "500/500 [==============================] - 170s - loss: 0.3065 - val_loss: 0.4186\n",
            "Epoch 8/20\n",
            "500/500 [==============================] - 170s - loss: 0.2938 - val_loss: 0.4014\n",
            "Epoch 9/20\n",
            "500/500 [==============================] - 170s - loss: 0.2824 - val_loss: 0.4077\n",
            "Epoch 10/20\n",
            "500/500 [==============================] - 170s - loss: 0.2724 - val_loss: 0.4090\n",
            "Epoch 11/20\n",
            "500/500 [==============================] - 170s - loss: 0.2670 - val_loss: 0.3990\n",
            "Epoch 12/20\n",
            "500/500 [==============================] - 170s - loss: 0.2613 - val_loss: 0.4146\n",
            "Epoch 13/20\n",
            "500/500 [==============================] - 170s - loss: 0.2548 - val_loss: 0.4013\n",
            "Epoch 14/20\n",
            "500/500 [==============================] - 170s - loss: 0.2521 - val_loss: 0.4086\n",
            "Epoch 15/20\n",
            "500/500 [==============================] - 170s - loss: 0.2458 - val_loss: 0.4178\n",
            "Epoch 16/20\n",
            "500/500 [==============================] - 170s - loss: 0.2437 - val_loss: 0.4097\n",
            "Epoch 17/20\n",
            "500/500 [==============================] - 170s - loss: 0.2416 - val_loss: 0.4163\n",
            "Epoch 18/20\n",
            "500/500 [==============================] - 170s - loss: 0.2373 - val_loss: 0.4174\n",
            "Epoch 19/20\n",
            "500/500 [==============================] - 170s - loss: 0.2355 - val_loss: 0.4064\n",
            "Epoch 20/20\n",
            "500/500 [==============================] - 170s - loss: 0.2313 - val_loss: 0.4261\n"
          ],
          "name": "stdout"
        }
      ]
    },
    {
      "cell_type": "code",
      "metadata": {
        "id": "v95oFpZOIRVh",
        "colab_type": "code",
        "outputId": "a30c539d-c775-4bbc-d668-6c49525f9e81",
        "colab": {}
      },
      "source": [
        "loss = history.history['loss']\n",
        "val_loss = history.history['val_loss']\n",
        "\n",
        "epochs = range(len(loss))\n",
        "\n",
        "plt.figure()\n",
        "\n",
        "plt.plot(epochs, loss, 'bo', label='Training loss')\n",
        "plt.plot(epochs, val_loss, 'b', label='Validation loss')\n",
        "plt.title('Training and validation loss')\n",
        "plt.legend()\n",
        "\n",
        "plt.show()"
      ],
      "execution_count": 0,
      "outputs": [
        {
          "output_type": "display_data",
          "data": {
            "text/plain": [
              "<matplotlib.figure.Figure at 0x7f3314e81860>"
            ]
          },
          "metadata": {
            "tags": []
          }
        },
        {
          "output_type": "display_data",
          "data": {
            "image/png": "[encoded data removed]",
            "text/plain": [
              "<matplotlib.figure.Figure at 0x7f330f25bcc0>"
            ]
          },
          "metadata": {
            "tags": []
          }
        }
      ]
    },
    {
      "cell_type": "markdown",
      "metadata": {
        "id": "WFIXVYx_IRVr",
        "colab_type": "text"
      },
      "source": [
        "\n",
        "So the reversed-order GRU strongly underperforms even the common-sense baseline, indicating that the in our case chronological processing is very \n",
        "important to the success of our approach. This makes perfect sense: the underlying GRU layer will typically be better at remembering the \n",
        "recent past than the distant past, and naturally the more recent weather data points are more predictive than older data points in our \n",
        "problem (that's precisely what makes the common-sense baseline a fairly strong baseline). Thus the chronological version of the layer is \n",
        "bound to outperform the reversed-order version. Importantly, this is generally not true for many other problems, including natural \n",
        "language: intuitively, the importance of a word in understanding a sentence is not usually dependent on its position in the sentence. Let's \n",
        "try the same trick on the LSTM IMDB example from the previous section:"
      ]
    },
    {
      "cell_type": "code",
      "metadata": {
        "id": "Lb725H-OIRVt",
        "colab_type": "code",
        "outputId": "ea62d9f9-d1b5-4638-d326-352104415e75",
        "colab": {
          "base_uri": "https://localhost:8080/",
          "height": 955
        }
      },
      "source": [
        "from keras.datasets import imdb\n",
        "from keras.preprocessing import sequence\n",
        "from keras import layers\n",
        "from keras.models import Sequential\n",
        "\n",
        "# Number of words to consider as features\n",
        "max_features = 10000\n",
        "# Cut texts after this number of words (among top max_features most common words)\n",
        "maxlen = 500\n",
        "\n",
        "# Load data\n",
        "(x_train, y_train), (x_test, y_test) = imdb.load_data(num_words=max_features)\n",
        "\n",
        "# Reverse sequences\n",
        "x_train = [x[::-1] for x in x_train]\n",
        "x_test = [x[::-1] for x in x_test]\n",
        "\n",
        "# Pad sequences\n",
        "x_train = sequence.pad_sequences(x_train, maxlen=maxlen)\n",
        "x_test = sequence.pad_sequences(x_test, maxlen=maxlen)\n",
        "\n",
        "model = Sequential()\n",
        "model.add(layers.Embedding(max_features, 128))\n",
        "model.add(layers.LSTM(32))\n",
        "model.add(layers.Dense(1, activation='sigmoid'))\n",
        "\n",
        "model.compile(optimizer='rmsprop',\n",
        "              loss='binary_crossentropy',\n",
        "              metrics=['acc'])\n",
        "history = model.fit(x_train, y_train,\n",
        "                    epochs=10,\n",
        "                    batch_size=128,\n",
        "                    validation_split=0.2)"
      ],
      "execution_count": 2,
      "outputs": [
        {
          "output_type": "stream",
          "text": [
            "Downloading data from https://s3.amazonaws.com/text-datasets/imdb.npz\n",
            "17465344/17464789 [==============================] - 0s 0us/step\n",
            "WARNING:tensorflow:From /usr/local/lib/python3.6/dist-packages/keras/backend/tensorflow_backend.py:66: The name tf.get_default_graph is deprecated. Please use tf.compat.v1.get_default_graph instead.\n",
            "\n",
            "WARNING:tensorflow:From /usr/local/lib/python3.6/dist-packages/keras/backend/tensorflow_backend.py:541: The name tf.placeholder is deprecated. Please use tf.compat.v1.placeholder instead.\n",
            "\n",
            "WARNING:tensorflow:From /usr/local/lib/python3.6/dist-packages/keras/backend/tensorflow_backend.py:4432: The name tf.random_uniform is deprecated. Please use tf.random.uniform instead.\n",
            "\n",
            "WARNING:tensorflow:From /usr/local/lib/python3.6/dist-packages/keras/optimizers.py:793: The name tf.train.Optimizer is deprecated. Please use tf.compat.v1.train.Optimizer instead.\n",
            "\n",
            "WARNING:tensorflow:From /usr/local/lib/python3.6/dist-packages/keras/backend/tensorflow_backend.py:3657: The name tf.log is deprecated. Please use tf.math.log instead.\n",
            "\n",
            "WARNING:tensorflow:From /usr/local/lib/python3.6/dist-packages/tensorflow_core/python/ops/nn_impl.py:183: where (from tensorflow.python.ops.array_ops) is deprecated and will be removed in a future version.\n",
            "Instructions for updating:\n",
            "Use tf.where in 2.0, which has the same broadcast rule as np.where\n",
            "WARNING:tensorflow:From /usr/local/lib/python3.6/dist-packages/keras/backend/tensorflow_backend.py:1033: The name tf.assign_add is deprecated. Please use tf.compat.v1.assign_add instead.\n",
            "\n",
            "WARNING:tensorflow:From /usr/local/lib/python3.6/dist-packages/keras/backend/tensorflow_backend.py:1020: The name tf.assign is deprecated. Please use tf.compat.v1.assign instead.\n",
            "\n",
            "WARNING:tensorflow:From /usr/local/lib/python3.6/dist-packages/keras/backend/tensorflow_backend.py:3005: The name tf.Session is deprecated. Please use tf.compat.v1.Session instead.\n",
            "\n",
            "Train on 20000 samples, validate on 5000 samples\n",
            "Epoch 1/10\n",
            "WARNING:tensorflow:From /usr/local/lib/python3.6/dist-packages/keras/backend/tensorflow_backend.py:190: The name tf.get_default_session is deprecated. Please use tf.compat.v1.get_default_session instead.\n",
            "\n",
            "WARNING:tensorflow:From /usr/local/lib/python3.6/dist-packages/keras/backend/tensorflow_backend.py:197: The name tf.ConfigProto is deprecated. Please use tf.compat.v1.ConfigProto instead.\n",
            "\n",
            "WARNING:tensorflow:From /usr/local/lib/python3.6/dist-packages/keras/backend/tensorflow_backend.py:207: The name tf.global_variables is deprecated. Please use tf.compat.v1.global_variables instead.\n",
            "\n",
            "WARNING:tensorflow:From /usr/local/lib/python3.6/dist-packages/keras/backend/tensorflow_backend.py:216: The name tf.is_variable_initialized is deprecated. Please use tf.compat.v1.is_variable_initialized instead.\n",
            "\n",
            "WARNING:tensorflow:From /usr/local/lib/python3.6/dist-packages/keras/backend/tensorflow_backend.py:223: The name tf.variables_initializer is deprecated. Please use tf.compat.v1.variables_initializer instead.\n",
            "\n",
            "20000/20000 [==============================] - 113s 6ms/step - loss: 0.4986 - acc: 0.7588 - val_loss: 0.3771 - val_acc: 0.8494\n",
            "Epoch 2/10\n",
            "20000/20000 [==============================] - 113s 6ms/step - loss: 0.3165 - acc: 0.8773 - val_loss: 0.3659 - val_acc: 0.8732\n",
            "Epoch 3/10\n",
            "20000/20000 [==============================] - 113s 6ms/step - loss: 0.2637 - acc: 0.9038 - val_loss: 0.3678 - val_acc: 0.8782\n",
            "Epoch 4/10\n",
            "20000/20000 [==============================] - 112s 6ms/step - loss: 0.2254 - acc: 0.9176 - val_loss: 0.3342 - val_acc: 0.8702\n",
            "Epoch 5/10\n",
            "19968/20000 [============================>.] - ETA: 0s - loss: 0.2006 - acc: 0.9287Epoch 6/10\n",
            "20000/20000 [==============================] - 113s 6ms/step - loss: 0.1812 - acc: 0.9385 - val_loss: 0.4779 - val_acc: 0.8122\n",
            "Epoch 7/10\n",
            "20000/20000 [==============================] - 111s 6ms/step - loss: 0.1657 - acc: 0.9440 - val_loss: 0.4217 - val_acc: 0.8376\n",
            "Epoch 8/10\n",
            "20000/20000 [==============================] - 110s 6ms/step - loss: 0.1409 - acc: 0.9517 - val_loss: 0.5135 - val_acc: 0.8484\n",
            "Epoch 9/10\n",
            "20000/20000 [==============================] - 111s 6ms/step - loss: 0.1421 - acc: 0.9563 - val_loss: 0.8488 - val_acc: 0.7282\n",
            "Epoch 10/10\n",
            "20000/20000 [==============================] - 111s 6ms/step - loss: 0.1372 - acc: 0.9541 - val_loss: 0.6340 - val_acc: 0.8470\n"
          ],
          "name": "stdout"
        }
      ]
    },
    {
      "cell_type": "markdown",
      "metadata": {
        "id": "xNz1kGEzIRV1",
        "colab_type": "text"
      },
      "source": [
        "\n",
        "We get near-identical performance as the chronological-order LSTM we tried in the previous section.\n",
        "\n",
        "Thus, remarkably, on such a text dataset, reversed-order processing works just as well as chronological processing, confirming our \n",
        "hypothesis that, albeit word order *does* matter in understanding language, *which* order you use isn't crucial. Importantly, a RNN trained \n",
        "on reversed sequences will learn different representations than one trained on the original sequences, in much the same way that you would \n",
        "have quite different mental models if time flowed backwards in the real world -- if you lived a life where you died on your first day and \n",
        "you were born on your last day. In machine learning, representations that are *different* yet *useful* are always worth exploiting, and the \n",
        "more they differ the better: they offer a new angle from which to look at your data, capturing aspects of the data that were missed by other \n",
        "approaches, and thus they can allow to boost performance on a task. This is the intuition behind \"ensembling\", a concept that we will \n",
        "introduce in the next chapter.\n",
        "\n",
        "A bidirectional RNN exploits this idea to improve upon the performance of chronological-order RNNs: it looks at its inputs sequence both \n",
        "ways, obtaining potentially richer representations and capturing patterns that may have been missed by the chronological-order version alone."
      ]
    },
    {
      "cell_type": "markdown",
      "metadata": {
        "id": "VVTgTX6JIRV3",
        "colab_type": "text"
      },
      "source": [
        "![bidirectional rnn](https://s3.amazonaws.com/book.keras.io/img/ch6/bidirectional_rnn.png)"
      ]
    },
    {
      "cell_type": "markdown",
      "metadata": {
        "id": "uJitCK2cIRV5",
        "colab_type": "text"
      },
      "source": [
        "To instantiate a bidirectional RNN in Keras, one would use the `Bidirectional` layer, which takes as first argument a recurrent layer \n",
        "instance. `Bidirectional` will create a second, separate instance of this recurrent layer, and will use one instance for processing the \n",
        "input sequences in chronological order and the other instance for processing the input sequences in reversed order. Let's try it on the \n",
        "IMDB sentiment analysis task:"
      ]
    },
    {
      "cell_type": "code",
      "metadata": {
        "id": "BG3DxYetIRV8",
        "colab_type": "code",
        "colab": {
          "base_uri": "https://localhost:8080/",
          "height": 109
        },
        "outputId": "db6fe71c-0419-45b6-ebaa-7adc252a6144"
      },
      "source": [
        "from keras import backend as K\n",
        "K.clear_session()"
      ],
      "execution_count": 3,
      "outputs": [
        {
          "output_type": "stream",
          "text": [
            "WARNING:tensorflow:From /usr/local/lib/python3.6/dist-packages/keras/backend/tensorflow_backend.py:107: The name tf.reset_default_graph is deprecated. Please use tf.compat.v1.reset_default_graph instead.\n",
            "\n",
            "WARNING:tensorflow:From /usr/local/lib/python3.6/dist-packages/keras/backend/tensorflow_backend.py:111: The name tf.placeholder_with_default is deprecated. Please use tf.compat.v1.placeholder_with_default instead.\n",
            "\n"
          ],
          "name": "stdout"
        }
      ]
    },
    {
      "cell_type": "code",
      "metadata": {
        "id": "vSZpDTYtIRWC",
        "colab_type": "code",
        "outputId": "c7799d9f-2deb-4b3a-af8a-6270074aeab2",
        "colab": {
          "base_uri": "https://localhost:8080/",
          "height": 395
        }
      },
      "source": [
        "model = Sequential()\n",
        "model.add(layers.Embedding(max_features, 32))\n",
        "model.add(layers.Bidirectional(layers.LSTM(32)))\n",
        "model.add(layers.Dense(1, activation='sigmoid'))\n",
        "\n",
        "model.compile(optimizer='rmsprop', loss='binary_crossentropy', metrics=['acc'])\n",
        "history = model.fit(x_train, y_train, epochs=10, batch_size=128, validation_split=0.2)"
      ],
      "execution_count": 4,
      "outputs": [
        {
          "output_type": "stream",
          "text": [
            "Train on 20000 samples, validate on 5000 samples\n",
            "Epoch 1/10\n",
            "20000/20000 [==============================] - 145s 7ms/step - loss: 0.5812 - acc: 0.6942 - val_loss: 0.4867 - val_acc: 0.7828\n",
            "Epoch 2/10\n",
            "20000/20000 [==============================] - 144s 7ms/step - loss: 0.3704 - acc: 0.8567 - val_loss: 0.3780 - val_acc: 0.8670\n",
            "Epoch 3/10\n",
            "20000/20000 [==============================] - 145s 7ms/step - loss: 0.2812 - acc: 0.8946 - val_loss: 0.3258 - val_acc: 0.8874\n",
            "Epoch 4/10\n",
            "20000/20000 [==============================] - 144s 7ms/step - loss: 0.2375 - acc: 0.9135 - val_loss: 0.6636 - val_acc: 0.7904\n",
            "Epoch 5/10\n",
            "20000/20000 [==============================] - 145s 7ms/step - loss: 0.2064 - acc: 0.9270 - val_loss: 0.3357 - val_acc: 0.8806\n",
            "Epoch 6/10\n",
            "20000/20000 [==============================] - 143s 7ms/step - loss: 0.1866 - acc: 0.9347 - val_loss: 0.4236 - val_acc: 0.8644\n",
            "Epoch 7/10\n",
            "20000/20000 [==============================] - 142s 7ms/step - loss: 0.1658 - acc: 0.9436 - val_loss: 0.3817 - val_acc: 0.8650\n",
            "Epoch 8/10\n",
            "20000/20000 [==============================] - 141s 7ms/step - loss: 0.1534 - acc: 0.9483 - val_loss: 0.3880 - val_acc: 0.8570\n",
            "Epoch 9/10\n",
            "20000/20000 [==============================] - 141s 7ms/step - loss: 0.1382 - acc: 0.9539 - val_loss: 0.3675 - val_acc: 0.8782\n",
            "Epoch 10/10\n",
            "20000/20000 [==============================] - 140s 7ms/step - loss: 0.1286 - acc: 0.9578 - val_loss: 0.3639 - val_acc: 0.8610\n"
          ],
          "name": "stdout"
        }
      ]
    },
    {
      "cell_type": "markdown",
      "metadata": {
        "id": "IkEWVMNmIRWH",
        "colab_type": "text"
      },
      "source": [
        "It performs slightly better than the regular LSTM we tried in the previous section, going above 88% validation accuracy. It also seems to \n",
        "overfit faster, which is unsurprising since a bidirectional layer has twice more parameters than a chronological LSTM. With some \n",
        "regularization, the bidirectional approach would likely be a strong performer on this task.\n",
        "\n",
        "Now let's try the same approach on the weather prediction task:"
      ]
    },
    {
      "cell_type": "code",
      "metadata": {
        "id": "QPBGx5cuIRWJ",
        "colab_type": "code",
        "outputId": "eb0fa0c8-e198-4e5e-a586-c18183a33921",
        "colab": {}
      },
      "source": [
        "from keras.models import Sequential\n",
        "from keras import layers\n",
        "from keras.optimizers import RMSprop\n",
        "\n",
        "model = Sequential()\n",
        "model.add(layers.Bidirectional(\n",
        "    layers.GRU(32), input_shape=(None, float_data.shape[-1])))\n",
        "model.add(layers.Dense(1))\n",
        "\n",
        "model.compile(optimizer=RMSprop(), loss='mae')\n",
        "history = model.fit_generator(train_gen,\n",
        "                              steps_per_epoch=500,\n",
        "                              epochs=40,\n",
        "                              validation_data=val_gen,\n",
        "                              validation_steps=val_steps)"
      ],
      "execution_count": 0,
      "outputs": [
        {
          "output_type": "stream",
          "text": [
            "Epoch 1/40\n",
            "500/500 [==============================] - 325s - loss: 0.3029 - val_loss: 0.2660\n",
            "Epoch 2/40\n",
            "500/500 [==============================] - 324s - loss: 0.2751 - val_loss: 0.2660\n",
            "Epoch 3/40\n",
            "500/500 [==============================] - 326s - loss: 0.2668 - val_loss: 0.2628\n",
            "Epoch 4/40\n",
            "500/500 [==============================] - 326s - loss: 0.2594 - val_loss: 0.2615\n",
            "Epoch 5/40\n",
            "500/500 [==============================] - 324s - loss: 0.2532 - val_loss: 0.2684\n",
            "Epoch 6/40\n",
            "500/500 [==============================] - 324s - loss: 0.2442 - val_loss: 0.2674\n",
            "Epoch 7/40\n",
            "500/500 [==============================] - 324s - loss: 0.2405 - val_loss: 0.2700\n",
            "Epoch 8/40\n",
            "500/500 [==============================] - 324s - loss: 0.2343 - val_loss: 0.2782\n",
            "Epoch 9/40\n",
            "500/500 [==============================] - 324s - loss: 0.2293 - val_loss: 0.2778\n",
            "Epoch 10/40\n",
            "500/500 [==============================] - 324s - loss: 0.2233 - val_loss: 0.2813\n",
            "Epoch 11/40\n",
            "500/500 [==============================] - 324s - loss: 0.2167 - val_loss: 0.2978\n",
            "Epoch 12/40\n",
            "500/500 [==============================] - 324s - loss: 0.2116 - val_loss: 0.2984\n",
            "Epoch 13/40\n",
            "500/500 [==============================] - 324s - loss: 0.2061 - val_loss: 0.2920\n",
            "Epoch 14/40\n",
            "500/500 [==============================] - 323s - loss: 0.2008 - val_loss: 0.3016\n",
            "Epoch 15/40\n",
            "500/500 [==============================] - 324s - loss: 0.1952 - val_loss: 0.2985\n",
            "Epoch 16/40\n",
            "500/500 [==============================] - 324s - loss: 0.1915 - val_loss: 0.3029\n",
            "Epoch 17/40\n",
            "500/500 [==============================] - 323s - loss: 0.1862 - val_loss: 0.3127\n",
            "Epoch 18/40\n",
            "500/500 [==============================] - 324s - loss: 0.1821 - val_loss: 0.3079\n",
            "Epoch 19/40\n",
            "500/500 [==============================] - 324s - loss: 0.1772 - val_loss: 0.3116\n",
            "Epoch 20/40\n",
            "500/500 [==============================] - 323s - loss: 0.1735 - val_loss: 0.3151\n",
            "Epoch 21/40\n",
            "500/500 [==============================] - 323s - loss: 0.1705 - val_loss: 0.3208\n",
            "Epoch 22/40\n",
            "500/500 [==============================] - 324s - loss: 0.1664 - val_loss: 0.3345\n",
            "Epoch 23/40\n",
            "500/500 [==============================] - 323s - loss: 0.1631 - val_loss: 0.3162\n",
            "Epoch 24/40\n",
            "500/500 [==============================] - 324s - loss: 0.1604 - val_loss: 0.3141\n",
            "Epoch 25/40\n",
            "500/500 [==============================] - 324s - loss: 0.1572 - val_loss: 0.3173\n",
            "Epoch 26/40\n",
            "500/500 [==============================] - 325s - loss: 0.1559 - val_loss: 0.3156\n",
            "Epoch 27/40\n",
            "500/500 [==============================] - 324s - loss: 0.1530 - val_loss: 0.3227\n",
            "Epoch 28/40\n",
            "500/500 [==============================] - 324s - loss: 0.1521 - val_loss: 0.3288\n",
            "Epoch 29/40\n",
            "500/500 [==============================] - 325s - loss: 0.1496 - val_loss: 0.3264\n",
            "Epoch 30/40\n",
            "500/500 [==============================] - 324s - loss: 0.1481 - val_loss: 0.3266\n",
            "Epoch 31/40\n",
            "500/500 [==============================] - 323s - loss: 0.1456 - val_loss: 0.3241\n",
            "Epoch 32/40\n",
            "500/500 [==============================] - 323s - loss: 0.1436 - val_loss: 0.3293\n",
            "Epoch 33/40\n",
            "500/500 [==============================] - 324s - loss: 0.1426 - val_loss: 0.3301\n",
            "Epoch 34/40\n",
            "500/500 [==============================] - 324s - loss: 0.1409 - val_loss: 0.3298\n",
            "Epoch 35/40\n",
            "500/500 [==============================] - 324s - loss: 0.1399 - val_loss: 0.3372\n",
            "Epoch 36/40\n",
            "500/500 [==============================] - 323s - loss: 0.1387 - val_loss: 0.3304\n",
            "Epoch 37/40\n",
            "500/500 [==============================] - 324s - loss: 0.1388 - val_loss: 0.3324\n",
            "Epoch 38/40\n",
            "500/500 [==============================] - 324s - loss: 0.1362 - val_loss: 0.3317\n",
            "Epoch 39/40\n",
            "500/500 [==============================] - 323s - loss: 0.1342 - val_loss: 0.3319\n",
            "Epoch 40/40\n",
            "500/500 [==============================] - 324s - loss: 0.1350 - val_loss: 0.3289\n"
          ],
          "name": "stdout"
        }
      ]
    },
    {
      "cell_type": "markdown",
      "metadata": {
        "id": "NkRjNe86IRWR",
        "colab_type": "text"
      },
      "source": [
        "\n",
        "It performs about as well as the regular GRU layer. It's easy to understand why: all of the predictive capacity must be coming from the \n",
        "chronological half of the network, since the anti-chronological half is known to be severely underperforming on this task (again, because \n",
        "the recent past matters much more than the distant past in this case)."
      ]
    },
    {
      "cell_type": "markdown",
      "metadata": {
        "id": "1mmcq29hIRWS",
        "colab_type": "text"
      },
      "source": [
        "\n",
        "## Going even further\n",
        "\n",
        "At this stage, there are still many other things you could try in order to improve performance on our weather forecasting problem:\n",
        "\n",
        "* Adjust the number of units in each recurrent layer in the stacked setup. Our current choices are largely arbitrary and thus likely \n",
        "suboptimal.\n",
        "* Adjust the learning rate used by our `RMSprop` optimizer.\n",
        "* Try using `LSTM` layers instead of `GRU` layers.\n",
        "* Try using a bigger densely-connected regressor on top of the recurrent layers, i.e. a bigger `Dense` layer or even a stack of `Dense` \n",
        "layers.\n",
        "* Don't forget to eventually run the best performing models (in terms of validation MAE) on the test set! Least you start developing \n",
        "architectures that are overfitting to the validation set.   \n",
        "\n",
        "As usual: deep learning is more an art than a science, and while we can provide guidelines as to what is likely to work or not work on a \n",
        "given problem, ultimately every problem is unique and you will have to try and evaluate different strategies empirically. There is \n",
        "currently no theory that will tell you in advance precisely what you should do to optimally solve a problem. You must try and iterate.\n",
        "\n",
        "\n",
        "## Wrapping up\n",
        "\n",
        "Here's what you should take away from this section:\n",
        "\n",
        "* As you first learned in Chapter 4, when approaching a new problem, \n",
        "it is good to first establish common sense baselines for your metric of choice. If you don't have a \n",
        "baseline to beat, you can't tell if you are making any real progress.\n",
        "* Try simple models before expensive ones, to justify the additional expense. Sometimes a simple model will turn out to be your best option.\n",
        "* On data where temporal ordering matters, recurrent networks are a great fit and easily outperform models that first flatten the temporal \n",
        "data.\n",
        "* To use dropout with recurrent networks, one should use a time-constant dropout mask and recurrent dropout mask. This is built into Keras \n",
        "recurrent layers, so all you have to do is use the `dropout` and `recurrent_dropout` arguments of recurrent layers.\n",
        "* Stacked RNNs provide more representational power than a single RNN layer. They are also much more expensive, and thus not always worth it. \n",
        "While they offer clear gains on complex problems (e.g. machine translation), they might not always be relevant to smaller, simpler problems.\n",
        "* Bidirectional RNNs, which look at a sequence both ways, are very useful on natural language processing problems. However, they will not \n",
        "be strong performers on sequence data where the recent past is much more informative than the beginning of the sequence.\n",
        "\n",
        "Note there are two important concepts that we will not cover in detail here: recurrent \"attention\", and sequence masking. Both tend to be \n",
        "especially relevant for natural language processing, and are not particularly applicable to our temperature forecasting problem. We will \n",
        "leave them for future study outside of this book."
      ]
    }
  ]
}